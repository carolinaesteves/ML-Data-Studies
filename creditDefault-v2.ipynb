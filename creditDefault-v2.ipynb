{
 "cells": [
  {
   "cell_type": "code",
   "execution_count": 1,
   "id": "122f9ec2",
   "metadata": {},
   "outputs": [],
   "source": [
    "import pandas as pd\n",
    "import numpy as np\n",
    "import seaborn as sns\n",
    "import matplotlib.pyplot as plt\n",
    "from sklearn import preprocessing"
   ]
  },
  {
   "cell_type": "code",
   "execution_count": 2,
   "id": "39a89c23",
   "metadata": {},
   "outputs": [
    {
     "data": {
      "text/html": [
       "<div>\n",
       "<style scoped>\n",
       "    .dataframe tbody tr th:only-of-type {\n",
       "        vertical-align: middle;\n",
       "    }\n",
       "\n",
       "    .dataframe tbody tr th {\n",
       "        vertical-align: top;\n",
       "    }\n",
       "\n",
       "    .dataframe thead th {\n",
       "        text-align: right;\n",
       "    }\n",
       "</style>\n",
       "<table border=\"1\" class=\"dataframe\">\n",
       "  <thead>\n",
       "    <tr style=\"text-align: right;\">\n",
       "      <th></th>\n",
       "      <th>Income</th>\n",
       "      <th>Limit</th>\n",
       "      <th>Rating</th>\n",
       "      <th>Cards</th>\n",
       "      <th>Age</th>\n",
       "      <th>Education</th>\n",
       "      <th>Gender</th>\n",
       "      <th>Student</th>\n",
       "      <th>Married</th>\n",
       "      <th>Ethnicity</th>\n",
       "      <th>Balance</th>\n",
       "      <th>isDefault</th>\n",
       "    </tr>\n",
       "  </thead>\n",
       "  <tbody>\n",
       "    <tr>\n",
       "      <th>0</th>\n",
       "      <td>14.891</td>\n",
       "      <td>3606</td>\n",
       "      <td>283</td>\n",
       "      <td>2</td>\n",
       "      <td>34</td>\n",
       "      <td>11</td>\n",
       "      <td>Male</td>\n",
       "      <td>No</td>\n",
       "      <td>Yes</td>\n",
       "      <td>Caucasian</td>\n",
       "      <td>333</td>\n",
       "      <td>True</td>\n",
       "    </tr>\n",
       "    <tr>\n",
       "      <th>1</th>\n",
       "      <td>106.025</td>\n",
       "      <td>6645</td>\n",
       "      <td>483</td>\n",
       "      <td>3</td>\n",
       "      <td>82</td>\n",
       "      <td>15</td>\n",
       "      <td>Female</td>\n",
       "      <td>Yes</td>\n",
       "      <td>Yes</td>\n",
       "      <td>Asian</td>\n",
       "      <td>903</td>\n",
       "      <td>False</td>\n",
       "    </tr>\n",
       "    <tr>\n",
       "      <th>2</th>\n",
       "      <td>104.593</td>\n",
       "      <td>7075</td>\n",
       "      <td>514</td>\n",
       "      <td>4</td>\n",
       "      <td>71</td>\n",
       "      <td>11</td>\n",
       "      <td>Male</td>\n",
       "      <td>No</td>\n",
       "      <td>No</td>\n",
       "      <td>Asian</td>\n",
       "      <td>580</td>\n",
       "      <td>False</td>\n",
       "    </tr>\n",
       "    <tr>\n",
       "      <th>3</th>\n",
       "      <td>148.924</td>\n",
       "      <td>9504</td>\n",
       "      <td>681</td>\n",
       "      <td>3</td>\n",
       "      <td>36</td>\n",
       "      <td>11</td>\n",
       "      <td>Female</td>\n",
       "      <td>No</td>\n",
       "      <td>No</td>\n",
       "      <td>Asian</td>\n",
       "      <td>964</td>\n",
       "      <td>False</td>\n",
       "    </tr>\n",
       "    <tr>\n",
       "      <th>4</th>\n",
       "      <td>55.882</td>\n",
       "      <td>4897</td>\n",
       "      <td>357</td>\n",
       "      <td>2</td>\n",
       "      <td>68</td>\n",
       "      <td>16</td>\n",
       "      <td>Male</td>\n",
       "      <td>No</td>\n",
       "      <td>Yes</td>\n",
       "      <td>Caucasian</td>\n",
       "      <td>331</td>\n",
       "      <td>False</td>\n",
       "    </tr>\n",
       "    <tr>\n",
       "      <th>5</th>\n",
       "      <td>80.180</td>\n",
       "      <td>8047</td>\n",
       "      <td>569</td>\n",
       "      <td>4</td>\n",
       "      <td>77</td>\n",
       "      <td>10</td>\n",
       "      <td>Male</td>\n",
       "      <td>No</td>\n",
       "      <td>No</td>\n",
       "      <td>Caucasian</td>\n",
       "      <td>1151</td>\n",
       "      <td>False</td>\n",
       "    </tr>\n",
       "    <tr>\n",
       "      <th>6</th>\n",
       "      <td>20.996</td>\n",
       "      <td>3388</td>\n",
       "      <td>259</td>\n",
       "      <td>2</td>\n",
       "      <td>37</td>\n",
       "      <td>12</td>\n",
       "      <td>Female</td>\n",
       "      <td>No</td>\n",
       "      <td>No</td>\n",
       "      <td>African American</td>\n",
       "      <td>203</td>\n",
       "      <td>False</td>\n",
       "    </tr>\n",
       "    <tr>\n",
       "      <th>7</th>\n",
       "      <td>71.408</td>\n",
       "      <td>7114</td>\n",
       "      <td>512</td>\n",
       "      <td>2</td>\n",
       "      <td>87</td>\n",
       "      <td>9</td>\n",
       "      <td>Male</td>\n",
       "      <td>No</td>\n",
       "      <td>No</td>\n",
       "      <td>Asian</td>\n",
       "      <td>872</td>\n",
       "      <td>False</td>\n",
       "    </tr>\n",
       "    <tr>\n",
       "      <th>8</th>\n",
       "      <td>15.125</td>\n",
       "      <td>3300</td>\n",
       "      <td>266</td>\n",
       "      <td>5</td>\n",
       "      <td>66</td>\n",
       "      <td>13</td>\n",
       "      <td>Female</td>\n",
       "      <td>No</td>\n",
       "      <td>No</td>\n",
       "      <td>Caucasian</td>\n",
       "      <td>279</td>\n",
       "      <td>True</td>\n",
       "    </tr>\n",
       "    <tr>\n",
       "      <th>9</th>\n",
       "      <td>71.061</td>\n",
       "      <td>6819</td>\n",
       "      <td>491</td>\n",
       "      <td>3</td>\n",
       "      <td>41</td>\n",
       "      <td>19</td>\n",
       "      <td>Female</td>\n",
       "      <td>Yes</td>\n",
       "      <td>Yes</td>\n",
       "      <td>African American</td>\n",
       "      <td>1350</td>\n",
       "      <td>False</td>\n",
       "    </tr>\n",
       "  </tbody>\n",
       "</table>\n",
       "</div>"
      ],
      "text/plain": [
       "    Income  Limit  Rating  Cards  Age  Education  Gender Student Married  \\\n",
       "0   14.891   3606     283      2   34         11    Male      No     Yes   \n",
       "1  106.025   6645     483      3   82         15  Female     Yes     Yes   \n",
       "2  104.593   7075     514      4   71         11    Male      No      No   \n",
       "3  148.924   9504     681      3   36         11  Female      No      No   \n",
       "4   55.882   4897     357      2   68         16    Male      No     Yes   \n",
       "5   80.180   8047     569      4   77         10    Male      No      No   \n",
       "6   20.996   3388     259      2   37         12  Female      No      No   \n",
       "7   71.408   7114     512      2   87          9    Male      No      No   \n",
       "8   15.125   3300     266      5   66         13  Female      No      No   \n",
       "9   71.061   6819     491      3   41         19  Female     Yes     Yes   \n",
       "\n",
       "          Ethnicity  Balance  isDefault  \n",
       "0         Caucasian      333       True  \n",
       "1             Asian      903      False  \n",
       "2             Asian      580      False  \n",
       "3             Asian      964      False  \n",
       "4         Caucasian      331      False  \n",
       "5         Caucasian     1151      False  \n",
       "6  African American      203      False  \n",
       "7             Asian      872      False  \n",
       "8         Caucasian      279       True  \n",
       "9  African American     1350      False  "
      ]
     },
     "execution_count": 2,
     "metadata": {},
     "output_type": "execute_result"
    }
   ],
   "source": [
    "filepath = \"data/creditDefault.csv\"\n",
    "data = pd.read_csv(filepath)\n",
    "data.head(10)"
   ]
  },
  {
   "cell_type": "code",
   "execution_count": 3,
   "id": "ab9818c5",
   "metadata": {},
   "outputs": [
    {
     "data": {
      "text/plain": [
       "(400, 12)"
      ]
     },
     "execution_count": 3,
     "metadata": {},
     "output_type": "execute_result"
    }
   ],
   "source": [
    "data.shape"
   ]
  },
  {
   "cell_type": "markdown",
   "id": "3bbb6697",
   "metadata": {},
   "source": [
    "### Temos um dataset com 400 linhas e 12 features."
   ]
  },
  {
   "cell_type": "code",
   "execution_count": 4,
   "id": "8bad7b49",
   "metadata": {},
   "outputs": [
    {
     "name": "stdout",
     "output_type": "stream",
     "text": [
      "<class 'pandas.core.frame.DataFrame'>\n",
      "RangeIndex: 400 entries, 0 to 399\n",
      "Data columns (total 12 columns):\n",
      " #   Column     Non-Null Count  Dtype  \n",
      "---  ------     --------------  -----  \n",
      " 0   Income     400 non-null    float64\n",
      " 1   Limit      400 non-null    int64  \n",
      " 2   Rating     400 non-null    int64  \n",
      " 3   Cards      400 non-null    int64  \n",
      " 4   Age        400 non-null    int64  \n",
      " 5   Education  400 non-null    int64  \n",
      " 6   Gender     400 non-null    object \n",
      " 7   Student    400 non-null    object \n",
      " 8   Married    400 non-null    object \n",
      " 9   Ethnicity  400 non-null    object \n",
      " 10  Balance    400 non-null    int64  \n",
      " 11  isDefault  400 non-null    bool   \n",
      "dtypes: bool(1), float64(1), int64(6), object(4)\n",
      "memory usage: 34.9+ KB\n"
     ]
    }
   ],
   "source": [
    "data.info()"
   ]
  },
  {
   "cell_type": "markdown",
   "id": "525b616d",
   "metadata": {},
   "source": [
    "Todas as linhas estão preenchidas e não possuem valores nulos. Então não há necessidade de tratar valores faltantes.\n",
    "Apenas a renda é do tipo float, os demais são inteiros, com exceção de gender, student, married, ethnicity e isDefault"
   ]
  },
  {
   "cell_type": "code",
   "execution_count": 5,
   "id": "6d858577",
   "metadata": {
    "scrolled": false
   },
   "outputs": [
    {
     "data": {
      "text/html": [
       "<div>\n",
       "<style scoped>\n",
       "    .dataframe tbody tr th:only-of-type {\n",
       "        vertical-align: middle;\n",
       "    }\n",
       "\n",
       "    .dataframe tbody tr th {\n",
       "        vertical-align: top;\n",
       "    }\n",
       "\n",
       "    .dataframe thead th {\n",
       "        text-align: right;\n",
       "    }\n",
       "</style>\n",
       "<table border=\"1\" class=\"dataframe\">\n",
       "  <thead>\n",
       "    <tr style=\"text-align: right;\">\n",
       "      <th></th>\n",
       "      <th>Income</th>\n",
       "      <th>Limit</th>\n",
       "      <th>Rating</th>\n",
       "      <th>Cards</th>\n",
       "      <th>Age</th>\n",
       "      <th>Education</th>\n",
       "      <th>Balance</th>\n",
       "    </tr>\n",
       "  </thead>\n",
       "  <tbody>\n",
       "    <tr>\n",
       "      <th>count</th>\n",
       "      <td>400.000000</td>\n",
       "      <td>400.000000</td>\n",
       "      <td>400.000000</td>\n",
       "      <td>400.000000</td>\n",
       "      <td>400.000000</td>\n",
       "      <td>400.000000</td>\n",
       "      <td>400.000000</td>\n",
       "    </tr>\n",
       "    <tr>\n",
       "      <th>mean</th>\n",
       "      <td>45.218885</td>\n",
       "      <td>4735.600000</td>\n",
       "      <td>354.940000</td>\n",
       "      <td>2.957500</td>\n",
       "      <td>55.667500</td>\n",
       "      <td>13.450000</td>\n",
       "      <td>520.015000</td>\n",
       "    </tr>\n",
       "    <tr>\n",
       "      <th>std</th>\n",
       "      <td>35.244273</td>\n",
       "      <td>2308.198848</td>\n",
       "      <td>154.724143</td>\n",
       "      <td>1.371275</td>\n",
       "      <td>17.249807</td>\n",
       "      <td>3.125207</td>\n",
       "      <td>459.758877</td>\n",
       "    </tr>\n",
       "    <tr>\n",
       "      <th>min</th>\n",
       "      <td>10.354000</td>\n",
       "      <td>855.000000</td>\n",
       "      <td>93.000000</td>\n",
       "      <td>1.000000</td>\n",
       "      <td>23.000000</td>\n",
       "      <td>5.000000</td>\n",
       "      <td>0.000000</td>\n",
       "    </tr>\n",
       "    <tr>\n",
       "      <th>25%</th>\n",
       "      <td>21.007250</td>\n",
       "      <td>3088.000000</td>\n",
       "      <td>247.250000</td>\n",
       "      <td>2.000000</td>\n",
       "      <td>41.750000</td>\n",
       "      <td>11.000000</td>\n",
       "      <td>68.750000</td>\n",
       "    </tr>\n",
       "    <tr>\n",
       "      <th>50%</th>\n",
       "      <td>33.115500</td>\n",
       "      <td>4622.500000</td>\n",
       "      <td>344.000000</td>\n",
       "      <td>3.000000</td>\n",
       "      <td>56.000000</td>\n",
       "      <td>14.000000</td>\n",
       "      <td>459.500000</td>\n",
       "    </tr>\n",
       "    <tr>\n",
       "      <th>75%</th>\n",
       "      <td>57.470750</td>\n",
       "      <td>5872.750000</td>\n",
       "      <td>437.250000</td>\n",
       "      <td>4.000000</td>\n",
       "      <td>70.000000</td>\n",
       "      <td>16.000000</td>\n",
       "      <td>863.000000</td>\n",
       "    </tr>\n",
       "    <tr>\n",
       "      <th>max</th>\n",
       "      <td>186.634000</td>\n",
       "      <td>13913.000000</td>\n",
       "      <td>982.000000</td>\n",
       "      <td>9.000000</td>\n",
       "      <td>98.000000</td>\n",
       "      <td>20.000000</td>\n",
       "      <td>1999.000000</td>\n",
       "    </tr>\n",
       "  </tbody>\n",
       "</table>\n",
       "</div>"
      ],
      "text/plain": [
       "           Income         Limit      Rating       Cards         Age  \\\n",
       "count  400.000000    400.000000  400.000000  400.000000  400.000000   \n",
       "mean    45.218885   4735.600000  354.940000    2.957500   55.667500   \n",
       "std     35.244273   2308.198848  154.724143    1.371275   17.249807   \n",
       "min     10.354000    855.000000   93.000000    1.000000   23.000000   \n",
       "25%     21.007250   3088.000000  247.250000    2.000000   41.750000   \n",
       "50%     33.115500   4622.500000  344.000000    3.000000   56.000000   \n",
       "75%     57.470750   5872.750000  437.250000    4.000000   70.000000   \n",
       "max    186.634000  13913.000000  982.000000    9.000000   98.000000   \n",
       "\n",
       "        Education      Balance  \n",
       "count  400.000000   400.000000  \n",
       "mean    13.450000   520.015000  \n",
       "std      3.125207   459.758877  \n",
       "min      5.000000     0.000000  \n",
       "25%     11.000000    68.750000  \n",
       "50%     14.000000   459.500000  \n",
       "75%     16.000000   863.000000  \n",
       "max     20.000000  1999.000000  "
      ]
     },
     "execution_count": 5,
     "metadata": {},
     "output_type": "execute_result"
    }
   ],
   "source": [
    "data.describe()"
   ]
  },
  {
   "cell_type": "markdown",
   "id": "30aa0c7c",
   "metadata": {},
   "source": [
    "Temos entradas com credit balance = 0."
   ]
  },
  {
   "cell_type": "code",
   "execution_count": 6,
   "id": "420c8907",
   "metadata": {
    "scrolled": true
   },
   "outputs": [
    {
     "data": {
      "text/html": [
       "<div>\n",
       "<style scoped>\n",
       "    .dataframe tbody tr th:only-of-type {\n",
       "        vertical-align: middle;\n",
       "    }\n",
       "\n",
       "    .dataframe tbody tr th {\n",
       "        vertical-align: top;\n",
       "    }\n",
       "\n",
       "    .dataframe thead th {\n",
       "        text-align: right;\n",
       "    }\n",
       "</style>\n",
       "<table border=\"1\" class=\"dataframe\">\n",
       "  <thead>\n",
       "    <tr style=\"text-align: right;\">\n",
       "      <th></th>\n",
       "      <th>Gender</th>\n",
       "      <th>Student</th>\n",
       "      <th>Married</th>\n",
       "      <th>Ethnicity</th>\n",
       "    </tr>\n",
       "  </thead>\n",
       "  <tbody>\n",
       "    <tr>\n",
       "      <th>count</th>\n",
       "      <td>400</td>\n",
       "      <td>400</td>\n",
       "      <td>400</td>\n",
       "      <td>400</td>\n",
       "    </tr>\n",
       "    <tr>\n",
       "      <th>unique</th>\n",
       "      <td>2</td>\n",
       "      <td>2</td>\n",
       "      <td>2</td>\n",
       "      <td>3</td>\n",
       "    </tr>\n",
       "    <tr>\n",
       "      <th>top</th>\n",
       "      <td>Female</td>\n",
       "      <td>No</td>\n",
       "      <td>Yes</td>\n",
       "      <td>Caucasian</td>\n",
       "    </tr>\n",
       "    <tr>\n",
       "      <th>freq</th>\n",
       "      <td>207</td>\n",
       "      <td>360</td>\n",
       "      <td>245</td>\n",
       "      <td>199</td>\n",
       "    </tr>\n",
       "  </tbody>\n",
       "</table>\n",
       "</div>"
      ],
      "text/plain": [
       "        Gender Student Married  Ethnicity\n",
       "count      400     400     400        400\n",
       "unique       2       2       2          3\n",
       "top     Female      No     Yes  Caucasian\n",
       "freq       207     360     245        199"
      ]
     },
     "execution_count": 6,
     "metadata": {},
     "output_type": "execute_result"
    }
   ],
   "source": [
    "data.describe(include=['object'])"
   ]
  },
  {
   "cell_type": "markdown",
   "id": "82678dd5",
   "metadata": {},
   "source": []
  },
  {
   "cell_type": "markdown",
   "id": "bd0268f2",
   "metadata": {},
   "source": [
    "# Data Exploration"
   ]
  },
  {
   "cell_type": "markdown",
   "id": "53e9084b",
   "metadata": {},
   "source": [
    "\n",
    "\n",
    "Mulheres: 207\n",
    "Homens: 193\n",
    "\n",
    "Não-Estudantes: 360\n",
    "Estudantes: apenas 40\n",
    "\n",
    "Casados: 245 vs Não casados: 155"
   ]
  },
  {
   "cell_type": "code",
   "execution_count": 7,
   "id": "ce32f53f",
   "metadata": {},
   "outputs": [
    {
     "data": {
      "image/png": "[encoded data removed]",
      "text/plain": [
       "<Figure size 432x288 with 1 Axes>"
      ]
     },
     "metadata": {},
     "output_type": "display_data"
    }
   ],
   "source": [
    "fig1, ax1 = plt.subplots()\n",
    "ax1.pie(data['Ethnicity'].value_counts(), labels = ['Caucasian','Asian','African American'])\n",
    "ax1.axis('equal')\n",
    "plt.show()"
   ]
  },
  {
   "cell_type": "code",
   "execution_count": 8,
   "id": "a1a2705a",
   "metadata": {
    "scrolled": true
   },
   "outputs": [
    {
     "data": {
      "text/plain": [
       "Ethnicity         Gender  Student\n",
       "Caucasian         Female  No         92\n",
       "                   Male   No         90\n",
       "Asian             Female  No         46\n",
       "African American  Female  No         45\n",
       "                   Male   No         44\n",
       "Asian              Male   No         43\n",
       "Caucasian         Female  Yes        10\n",
       "Asian             Female  Yes         9\n",
       "Caucasian          Male   Yes         7\n",
       "African American   Male   Yes         5\n",
       "                  Female  Yes         5\n",
       "Asian              Male   Yes         4\n",
       "dtype: int64"
      ]
     },
     "execution_count": 8,
     "metadata": {},
     "output_type": "execute_result"
    }
   ],
   "source": [
    "data[['Ethnicity','Gender','Student']].value_counts()"
   ]
  },
  {
   "cell_type": "markdown",
   "id": "a63d7a9c",
   "metadata": {},
   "source": [
    "Quase 1/4 da base de dados é composta por mulheres caucasianas que não são estudantes."
   ]
  },
  {
   "cell_type": "code",
   "execution_count": 9,
   "id": "2965e377",
   "metadata": {
    "scrolled": false
   },
   "outputs": [
    {
     "data": {
      "text/plain": [
       "<bound method NDFrame.head of 2    115\n",
       "3    111\n",
       "4     72\n",
       "1     51\n",
       "5     34\n",
       "6     11\n",
       "7      4\n",
       "8      1\n",
       "9      1\n",
       "Name: Cards, dtype: int64>"
      ]
     },
     "execution_count": 9,
     "metadata": {},
     "output_type": "execute_result"
    }
   ],
   "source": [
    "data['Cards'].value_counts().head"
   ]
  },
  {
   "cell_type": "code",
   "execution_count": 10,
   "id": "793f3d23",
   "metadata": {},
   "outputs": [
    {
     "data": {
      "text/plain": [
       "16    50\n",
       "15    49\n",
       "14    48\n",
       "13    38\n",
       "12    37\n",
       "17    34\n",
       "11    33\n",
       "9     25\n",
       "10    24\n",
       "18    22\n",
       "8     14\n",
       "19    10\n",
       "7      8\n",
       "6      5\n",
       "20     2\n",
       "5      1\n",
       "Name: Education, dtype: int64"
      ]
     },
     "execution_count": 10,
     "metadata": {},
     "output_type": "execute_result"
    }
   ],
   "source": [
    "data['Education'].value_counts()"
   ]
  },
  {
   "cell_type": "code",
   "execution_count": 11,
   "id": "d9acefff",
   "metadata": {},
   "outputs": [
    {
     "data": {
      "text/plain": [
       "0       90\n",
       "133      3\n",
       "1048     3\n",
       "531      3\n",
       "333      2\n",
       "        ..\n",
       "669      1\n",
       "68       1\n",
       "642      1\n",
       "805      1\n",
       "966      1\n",
       "Name: Balance, Length: 284, dtype: int64"
      ]
     },
     "execution_count": 11,
     "metadata": {},
     "output_type": "execute_result"
    }
   ],
   "source": [
    "data['Balance'].value_counts()"
   ]
  },
  {
   "cell_type": "code",
   "execution_count": 12,
   "id": "9661b2ca",
   "metadata": {
    "scrolled": true
   },
   "outputs": [
    {
     "data": {
      "text/plain": [
       "False    291\n",
       "True     109\n",
       "Name: isDefault, dtype: int64"
      ]
     },
     "execution_count": 12,
     "metadata": {},
     "output_type": "execute_result"
    }
   ],
   "source": [
    "data['isDefault'].value_counts()"
   ]
  },
  {
   "cell_type": "markdown",
   "id": "36726f14",
   "metadata": {},
   "source": [
    "### Vamos dividir o dataset entre variáveis categóricas e não-categóricas"
   ]
  },
  {
   "cell_type": "code",
   "execution_count": 13,
   "id": "99ef206f",
   "metadata": {},
   "outputs": [],
   "source": [
    "dataCategorical = data[['Gender', 'Student', 'Married', 'Ethnicity', \"isDefault\"]]\n",
    "dataNonCategorical = data[[\"Income\", \"Limit\" ,\"Rating\", \"Cards\" , \"Age\" , \"Education\", \"Balance\"]]\n"
   ]
  },
  {
   "cell_type": "code",
   "execution_count": 14,
   "id": "69b3935d",
   "metadata": {},
   "outputs": [
    {
     "data": {
      "text/html": [
       "<div>\n",
       "<style scoped>\n",
       "    .dataframe tbody tr th:only-of-type {\n",
       "        vertical-align: middle;\n",
       "    }\n",
       "\n",
       "    .dataframe tbody tr th {\n",
       "        vertical-align: top;\n",
       "    }\n",
       "\n",
       "    .dataframe thead th {\n",
       "        text-align: right;\n",
       "    }\n",
       "</style>\n",
       "<table border=\"1\" class=\"dataframe\">\n",
       "  <thead>\n",
       "    <tr style=\"text-align: right;\">\n",
       "      <th></th>\n",
       "      <th>Gender</th>\n",
       "      <th>Student</th>\n",
       "      <th>Married</th>\n",
       "      <th>Ethnicity</th>\n",
       "      <th>isDefault</th>\n",
       "    </tr>\n",
       "  </thead>\n",
       "  <tbody>\n",
       "    <tr>\n",
       "      <th>0</th>\n",
       "      <td>Male</td>\n",
       "      <td>No</td>\n",
       "      <td>Yes</td>\n",
       "      <td>Caucasian</td>\n",
       "      <td>True</td>\n",
       "    </tr>\n",
       "    <tr>\n",
       "      <th>1</th>\n",
       "      <td>Female</td>\n",
       "      <td>Yes</td>\n",
       "      <td>Yes</td>\n",
       "      <td>Asian</td>\n",
       "      <td>False</td>\n",
       "    </tr>\n",
       "    <tr>\n",
       "      <th>2</th>\n",
       "      <td>Male</td>\n",
       "      <td>No</td>\n",
       "      <td>No</td>\n",
       "      <td>Asian</td>\n",
       "      <td>False</td>\n",
       "    </tr>\n",
       "    <tr>\n",
       "      <th>3</th>\n",
       "      <td>Female</td>\n",
       "      <td>No</td>\n",
       "      <td>No</td>\n",
       "      <td>Asian</td>\n",
       "      <td>False</td>\n",
       "    </tr>\n",
       "    <tr>\n",
       "      <th>4</th>\n",
       "      <td>Male</td>\n",
       "      <td>No</td>\n",
       "      <td>Yes</td>\n",
       "      <td>Caucasian</td>\n",
       "      <td>False</td>\n",
       "    </tr>\n",
       "    <tr>\n",
       "      <th>...</th>\n",
       "      <td>...</td>\n",
       "      <td>...</td>\n",
       "      <td>...</td>\n",
       "      <td>...</td>\n",
       "      <td>...</td>\n",
       "    </tr>\n",
       "    <tr>\n",
       "      <th>395</th>\n",
       "      <td>Male</td>\n",
       "      <td>No</td>\n",
       "      <td>Yes</td>\n",
       "      <td>Caucasian</td>\n",
       "      <td>True</td>\n",
       "    </tr>\n",
       "    <tr>\n",
       "      <th>396</th>\n",
       "      <td>Male</td>\n",
       "      <td>No</td>\n",
       "      <td>No</td>\n",
       "      <td>African American</td>\n",
       "      <td>True</td>\n",
       "    </tr>\n",
       "    <tr>\n",
       "      <th>397</th>\n",
       "      <td>Female</td>\n",
       "      <td>No</td>\n",
       "      <td>Yes</td>\n",
       "      <td>Caucasian</td>\n",
       "      <td>False</td>\n",
       "    </tr>\n",
       "    <tr>\n",
       "      <th>398</th>\n",
       "      <td>Male</td>\n",
       "      <td>No</td>\n",
       "      <td>Yes</td>\n",
       "      <td>Caucasian</td>\n",
       "      <td>False</td>\n",
       "    </tr>\n",
       "    <tr>\n",
       "      <th>399</th>\n",
       "      <td>Female</td>\n",
       "      <td>No</td>\n",
       "      <td>No</td>\n",
       "      <td>Asian</td>\n",
       "      <td>True</td>\n",
       "    </tr>\n",
       "  </tbody>\n",
       "</table>\n",
       "<p>400 rows × 5 columns</p>\n",
       "</div>"
      ],
      "text/plain": [
       "     Gender Student Married         Ethnicity  isDefault\n",
       "0      Male      No     Yes         Caucasian       True\n",
       "1    Female     Yes     Yes             Asian      False\n",
       "2      Male      No      No             Asian      False\n",
       "3    Female      No      No             Asian      False\n",
       "4      Male      No     Yes         Caucasian      False\n",
       "..      ...     ...     ...               ...        ...\n",
       "395    Male      No     Yes         Caucasian       True\n",
       "396    Male      No      No  African American       True\n",
       "397  Female      No     Yes         Caucasian      False\n",
       "398    Male      No     Yes         Caucasian      False\n",
       "399  Female      No      No             Asian       True\n",
       "\n",
       "[400 rows x 5 columns]"
      ]
     },
     "execution_count": 14,
     "metadata": {},
     "output_type": "execute_result"
    }
   ],
   "source": [
    "dataCategorical"
   ]
  },
  {
   "cell_type": "markdown",
   "id": "890d0142",
   "metadata": {},
   "source": [
    "## Verificando correlação dos dados"
   ]
  },
  {
   "cell_type": "code",
   "execution_count": 15,
   "id": "f8a8346a",
   "metadata": {
    "scrolled": true
   },
   "outputs": [
    {
     "data": {
      "text/html": [
       "<div>\n",
       "<style scoped>\n",
       "    .dataframe tbody tr th:only-of-type {\n",
       "        vertical-align: middle;\n",
       "    }\n",
       "\n",
       "    .dataframe tbody tr th {\n",
       "        vertical-align: top;\n",
       "    }\n",
       "\n",
       "    .dataframe thead th {\n",
       "        text-align: right;\n",
       "    }\n",
       "</style>\n",
       "<table border=\"1\" class=\"dataframe\">\n",
       "  <thead>\n",
       "    <tr style=\"text-align: right;\">\n",
       "      <th></th>\n",
       "      <th>Income</th>\n",
       "      <th>Limit</th>\n",
       "      <th>Rating</th>\n",
       "      <th>Cards</th>\n",
       "      <th>Age</th>\n",
       "      <th>Education</th>\n",
       "      <th>Balance</th>\n",
       "      <th>isDefault</th>\n",
       "    </tr>\n",
       "  </thead>\n",
       "  <tbody>\n",
       "    <tr>\n",
       "      <th>Income</th>\n",
       "      <td>1.000000</td>\n",
       "      <td>0.792088</td>\n",
       "      <td>0.791378</td>\n",
       "      <td>-0.018273</td>\n",
       "      <td>0.175338</td>\n",
       "      <td>-0.027692</td>\n",
       "      <td>0.463656</td>\n",
       "      <td>-0.333531</td>\n",
       "    </tr>\n",
       "    <tr>\n",
       "      <th>Limit</th>\n",
       "      <td>0.792088</td>\n",
       "      <td>1.000000</td>\n",
       "      <td>0.996880</td>\n",
       "      <td>0.010231</td>\n",
       "      <td>0.100888</td>\n",
       "      <td>-0.023549</td>\n",
       "      <td>0.861697</td>\n",
       "      <td>0.035876</td>\n",
       "    </tr>\n",
       "    <tr>\n",
       "      <th>Rating</th>\n",
       "      <td>0.791378</td>\n",
       "      <td>0.996880</td>\n",
       "      <td>1.000000</td>\n",
       "      <td>0.053239</td>\n",
       "      <td>0.103165</td>\n",
       "      <td>-0.030136</td>\n",
       "      <td>0.863625</td>\n",
       "      <td>0.051833</td>\n",
       "    </tr>\n",
       "    <tr>\n",
       "      <th>Cards</th>\n",
       "      <td>-0.018273</td>\n",
       "      <td>0.010231</td>\n",
       "      <td>0.053239</td>\n",
       "      <td>1.000000</td>\n",
       "      <td>0.042948</td>\n",
       "      <td>-0.051084</td>\n",
       "      <td>0.086456</td>\n",
       "      <td>0.387971</td>\n",
       "    </tr>\n",
       "    <tr>\n",
       "      <th>Age</th>\n",
       "      <td>0.175338</td>\n",
       "      <td>0.100888</td>\n",
       "      <td>0.103165</td>\n",
       "      <td>0.042948</td>\n",
       "      <td>1.000000</td>\n",
       "      <td>0.003619</td>\n",
       "      <td>0.001835</td>\n",
       "      <td>-0.162551</td>\n",
       "    </tr>\n",
       "    <tr>\n",
       "      <th>Education</th>\n",
       "      <td>-0.027692</td>\n",
       "      <td>-0.023549</td>\n",
       "      <td>-0.030136</td>\n",
       "      <td>-0.051084</td>\n",
       "      <td>0.003619</td>\n",
       "      <td>1.000000</td>\n",
       "      <td>-0.008062</td>\n",
       "      <td>-0.052258</td>\n",
       "    </tr>\n",
       "    <tr>\n",
       "      <th>Balance</th>\n",
       "      <td>0.463656</td>\n",
       "      <td>0.861697</td>\n",
       "      <td>0.863625</td>\n",
       "      <td>0.086456</td>\n",
       "      <td>0.001835</td>\n",
       "      <td>-0.008062</td>\n",
       "      <td>1.000000</td>\n",
       "      <td>0.303172</td>\n",
       "    </tr>\n",
       "    <tr>\n",
       "      <th>isDefault</th>\n",
       "      <td>-0.333531</td>\n",
       "      <td>0.035876</td>\n",
       "      <td>0.051833</td>\n",
       "      <td>0.387971</td>\n",
       "      <td>-0.162551</td>\n",
       "      <td>-0.052258</td>\n",
       "      <td>0.303172</td>\n",
       "      <td>1.000000</td>\n",
       "    </tr>\n",
       "  </tbody>\n",
       "</table>\n",
       "</div>"
      ],
      "text/plain": [
       "             Income     Limit    Rating     Cards       Age  Education  \\\n",
       "Income     1.000000  0.792088  0.791378 -0.018273  0.175338  -0.027692   \n",
       "Limit      0.792088  1.000000  0.996880  0.010231  0.100888  -0.023549   \n",
       "Rating     0.791378  0.996880  1.000000  0.053239  0.103165  -0.030136   \n",
       "Cards     -0.018273  0.010231  0.053239  1.000000  0.042948  -0.051084   \n",
       "Age        0.175338  0.100888  0.103165  0.042948  1.000000   0.003619   \n",
       "Education -0.027692 -0.023549 -0.030136 -0.051084  0.003619   1.000000   \n",
       "Balance    0.463656  0.861697  0.863625  0.086456  0.001835  -0.008062   \n",
       "isDefault -0.333531  0.035876  0.051833  0.387971 -0.162551  -0.052258   \n",
       "\n",
       "            Balance  isDefault  \n",
       "Income     0.463656  -0.333531  \n",
       "Limit      0.861697   0.035876  \n",
       "Rating     0.863625   0.051833  \n",
       "Cards      0.086456   0.387971  \n",
       "Age        0.001835  -0.162551  \n",
       "Education -0.008062  -0.052258  \n",
       "Balance    1.000000   0.303172  \n",
       "isDefault  0.303172   1.000000  "
      ]
     },
     "execution_count": 15,
     "metadata": {},
     "output_type": "execute_result"
    }
   ],
   "source": [
    "data.corr()"
   ]
  },
  {
   "cell_type": "code",
   "execution_count": 16,
   "id": "4492d2fe",
   "metadata": {
    "scrolled": true
   },
   "outputs": [
    {
     "data": {
      "text/plain": [
       "<AxesSubplot:>"
      ]
     },
     "execution_count": 16,
     "metadata": {},
     "output_type": "execute_result"
    },
    {
     "data": {
      "image/png": "[encoded data removed]",
      "text/plain": [
       "<Figure size 432x288 with 2 Axes>"
      ]
     },
     "metadata": {
      "needs_background": "light"
     },
     "output_type": "display_data"
    }
   ],
   "source": [
    "sns.heatmap(data.corr(), cmap='BuGn')"
   ]
  },
  {
   "cell_type": "markdown",
   "id": "19a05f74",
   "metadata": {},
   "source": [
    "Limit e Rating são fortemente correlacionadas entre si, o que pode influenciar no nosso modelo, logo uma precisa ser eliminada"
   ]
  },
  {
   "cell_type": "markdown",
   "id": "dff0b479",
   "metadata": {},
   "source": [
    "### Verificar as features numéricas com ANOVA"
   ]
  },
  {
   "cell_type": "markdown",
   "id": "0385c891",
   "metadata": {},
   "source": [
    "ANOVA é um método estatístico para verificar se existe diferenças significativas entre as médias de grupos de dados, sendo possível inferir se as variáveis são dependentes uma sobre a outra. Vamos medir o F-Value que é a relação entre a variância entre grupos dividido pela variância dentro dos grupos. Deste modo, fica claro dizer que quanto maior a variância entre os grupos, mais diferentes as duas variáveis serão. Então, quanto maior o valor de F maior é a evidência de que as variáveis são diferentes entre si e que exercem influência uma sobre a outra."
   ]
  },
  {
   "cell_type": "code",
   "execution_count": 17,
   "id": "1fdb3431",
   "metadata": {},
   "outputs": [],
   "source": [
    "import pingouin as pg\n",
    "from sklearn.feature_selection import f_classif\n",
    "from scipy import stats "
   ]
  },
  {
   "cell_type": "code",
   "execution_count": 18,
   "id": "6261296f",
   "metadata": {
    "scrolled": true
   },
   "outputs": [
    {
     "name": "stderr",
     "output_type": "stream",
     "text": [
      "/opt/anaconda3/envs/clustering/lib/python3.9/site-packages/pandas/core/indexing.py:1681: SettingWithCopyWarning: \n",
      "A value is trying to be set on a copy of a slice from a DataFrame.\n",
      "Try using .loc[row_indexer,col_indexer] = value instead\n",
      "\n",
      "See the caveats in the documentation: https://pandas.pydata.org/pandas-docs/stable/user_guide/indexing.html#returning-a-view-versus-a-copy\n",
      "  self.obj[key] = empty_value\n",
      "/opt/anaconda3/envs/clustering/lib/python3.9/site-packages/pandas/core/indexing.py:1773: SettingWithCopyWarning: \n",
      "A value is trying to be set on a copy of a slice from a DataFrame.\n",
      "Try using .loc[row_indexer,col_indexer] = value instead\n",
      "\n",
      "See the caveats in the documentation: https://pandas.pydata.org/pandas-docs/stable/user_guide/indexing.html#returning-a-view-versus-a-copy\n",
      "  self._setitem_single_column(ilocs[0], value, pi)\n"
     ]
    }
   ],
   "source": [
    "dataNonCategorical.loc[0:400,'isDefault'] = dataCategorical[\"isDefault\"]"
   ]
  },
  {
   "cell_type": "markdown",
   "id": "32de97d7",
   "metadata": {},
   "source": [
    "A função pg anova só aceita valores numéricos, então é preciso passar os valores binários da coluna isDefault para 0 e 1"
   ]
  },
  {
   "cell_type": "code",
   "execution_count": 19,
   "id": "c7576e1d",
   "metadata": {
    "scrolled": false
   },
   "outputs": [],
   "source": [
    "le = preprocessing.LabelEncoder()\n",
    "dataNonCategorical.loc[0:400,'isDefault']  = le.fit_transform(dataNonCategorical['isDefault']) #false = 0"
   ]
  },
  {
   "cell_type": "code",
   "execution_count": 20,
   "id": "0ee1dd9a",
   "metadata": {},
   "outputs": [
    {
     "data": {
      "text/html": [
       "<div>\n",
       "<style scoped>\n",
       "    .dataframe tbody tr th:only-of-type {\n",
       "        vertical-align: middle;\n",
       "    }\n",
       "\n",
       "    .dataframe tbody tr th {\n",
       "        vertical-align: top;\n",
       "    }\n",
       "\n",
       "    .dataframe thead th {\n",
       "        text-align: right;\n",
       "    }\n",
       "</style>\n",
       "<table border=\"1\" class=\"dataframe\">\n",
       "  <thead>\n",
       "    <tr style=\"text-align: right;\">\n",
       "      <th></th>\n",
       "      <th>Income</th>\n",
       "      <th>Limit</th>\n",
       "      <th>Rating</th>\n",
       "      <th>Cards</th>\n",
       "      <th>Age</th>\n",
       "      <th>Education</th>\n",
       "      <th>Balance</th>\n",
       "      <th>isDefault</th>\n",
       "    </tr>\n",
       "  </thead>\n",
       "  <tbody>\n",
       "    <tr>\n",
       "      <th>0</th>\n",
       "      <td>14.891</td>\n",
       "      <td>3606</td>\n",
       "      <td>283</td>\n",
       "      <td>2</td>\n",
       "      <td>34</td>\n",
       "      <td>11</td>\n",
       "      <td>333</td>\n",
       "      <td>1</td>\n",
       "    </tr>\n",
       "    <tr>\n",
       "      <th>1</th>\n",
       "      <td>106.025</td>\n",
       "      <td>6645</td>\n",
       "      <td>483</td>\n",
       "      <td>3</td>\n",
       "      <td>82</td>\n",
       "      <td>15</td>\n",
       "      <td>903</td>\n",
       "      <td>0</td>\n",
       "    </tr>\n",
       "    <tr>\n",
       "      <th>2</th>\n",
       "      <td>104.593</td>\n",
       "      <td>7075</td>\n",
       "      <td>514</td>\n",
       "      <td>4</td>\n",
       "      <td>71</td>\n",
       "      <td>11</td>\n",
       "      <td>580</td>\n",
       "      <td>0</td>\n",
       "    </tr>\n",
       "    <tr>\n",
       "      <th>3</th>\n",
       "      <td>148.924</td>\n",
       "      <td>9504</td>\n",
       "      <td>681</td>\n",
       "      <td>3</td>\n",
       "      <td>36</td>\n",
       "      <td>11</td>\n",
       "      <td>964</td>\n",
       "      <td>0</td>\n",
       "    </tr>\n",
       "    <tr>\n",
       "      <th>4</th>\n",
       "      <td>55.882</td>\n",
       "      <td>4897</td>\n",
       "      <td>357</td>\n",
       "      <td>2</td>\n",
       "      <td>68</td>\n",
       "      <td>16</td>\n",
       "      <td>331</td>\n",
       "      <td>0</td>\n",
       "    </tr>\n",
       "    <tr>\n",
       "      <th>...</th>\n",
       "      <td>...</td>\n",
       "      <td>...</td>\n",
       "      <td>...</td>\n",
       "      <td>...</td>\n",
       "      <td>...</td>\n",
       "      <td>...</td>\n",
       "      <td>...</td>\n",
       "      <td>...</td>\n",
       "    </tr>\n",
       "    <tr>\n",
       "      <th>395</th>\n",
       "      <td>12.096</td>\n",
       "      <td>4100</td>\n",
       "      <td>307</td>\n",
       "      <td>3</td>\n",
       "      <td>32</td>\n",
       "      <td>13</td>\n",
       "      <td>560</td>\n",
       "      <td>1</td>\n",
       "    </tr>\n",
       "    <tr>\n",
       "      <th>396</th>\n",
       "      <td>13.364</td>\n",
       "      <td>3838</td>\n",
       "      <td>296</td>\n",
       "      <td>5</td>\n",
       "      <td>65</td>\n",
       "      <td>17</td>\n",
       "      <td>480</td>\n",
       "      <td>1</td>\n",
       "    </tr>\n",
       "    <tr>\n",
       "      <th>397</th>\n",
       "      <td>57.872</td>\n",
       "      <td>4171</td>\n",
       "      <td>321</td>\n",
       "      <td>5</td>\n",
       "      <td>67</td>\n",
       "      <td>12</td>\n",
       "      <td>138</td>\n",
       "      <td>0</td>\n",
       "    </tr>\n",
       "    <tr>\n",
       "      <th>398</th>\n",
       "      <td>37.728</td>\n",
       "      <td>2525</td>\n",
       "      <td>192</td>\n",
       "      <td>1</td>\n",
       "      <td>44</td>\n",
       "      <td>13</td>\n",
       "      <td>0</td>\n",
       "      <td>0</td>\n",
       "    </tr>\n",
       "    <tr>\n",
       "      <th>399</th>\n",
       "      <td>18.701</td>\n",
       "      <td>5524</td>\n",
       "      <td>415</td>\n",
       "      <td>5</td>\n",
       "      <td>64</td>\n",
       "      <td>7</td>\n",
       "      <td>966</td>\n",
       "      <td>1</td>\n",
       "    </tr>\n",
       "  </tbody>\n",
       "</table>\n",
       "<p>400 rows × 8 columns</p>\n",
       "</div>"
      ],
      "text/plain": [
       "      Income  Limit  Rating  Cards  Age  Education  Balance  isDefault\n",
       "0     14.891   3606     283      2   34         11      333          1\n",
       "1    106.025   6645     483      3   82         15      903          0\n",
       "2    104.593   7075     514      4   71         11      580          0\n",
       "3    148.924   9504     681      3   36         11      964          0\n",
       "4     55.882   4897     357      2   68         16      331          0\n",
       "..       ...    ...     ...    ...  ...        ...      ...        ...\n",
       "395   12.096   4100     307      3   32         13      560          1\n",
       "396   13.364   3838     296      5   65         17      480          1\n",
       "397   57.872   4171     321      5   67         12      138          0\n",
       "398   37.728   2525     192      1   44         13        0          0\n",
       "399   18.701   5524     415      5   64          7      966          1\n",
       "\n",
       "[400 rows x 8 columns]"
      ]
     },
     "execution_count": 20,
     "metadata": {},
     "output_type": "execute_result"
    }
   ],
   "source": [
    "dataNonCategorical"
   ]
  },
  {
   "cell_type": "code",
   "execution_count": 21,
   "id": "f9c39c23",
   "metadata": {},
   "outputs": [],
   "source": [
    "aov = []\n",
    "for variance in dataNonCategorical.columns[:7]:\n",
    "    v = pg.anova(data=dataNonCategorical, dv='isDefault', between=variance, detailed=True).round(3)\n",
    "    aov.append(v)"
   ]
  },
  {
   "cell_type": "code",
   "execution_count": 22,
   "id": "61bc2d23",
   "metadata": {
    "scrolled": true
   },
   "outputs": [
    {
     "data": {
      "text/html": [
       "<div>\n",
       "<style scoped>\n",
       "    .dataframe tbody tr th:only-of-type {\n",
       "        vertical-align: middle;\n",
       "    }\n",
       "\n",
       "    .dataframe tbody tr th {\n",
       "        vertical-align: top;\n",
       "    }\n",
       "\n",
       "    .dataframe thead th {\n",
       "        text-align: right;\n",
       "    }\n",
       "</style>\n",
       "<table border=\"1\" class=\"dataframe\">\n",
       "  <thead>\n",
       "    <tr style=\"text-align: right;\">\n",
       "      <th></th>\n",
       "      <th>Source</th>\n",
       "      <th>SS</th>\n",
       "      <th>DF</th>\n",
       "      <th>MS</th>\n",
       "      <th>F</th>\n",
       "      <th>p-unc</th>\n",
       "      <th>np2</th>\n",
       "    </tr>\n",
       "  </thead>\n",
       "  <tbody>\n",
       "    <tr>\n",
       "      <th>0</th>\n",
       "      <td>Income</td>\n",
       "      <td>78.798</td>\n",
       "      <td>398</td>\n",
       "      <td>0.198</td>\n",
       "      <td>0.396</td>\n",
       "      <td>0.887</td>\n",
       "      <td>0.994</td>\n",
       "    </tr>\n",
       "    <tr>\n",
       "      <th>1</th>\n",
       "      <td>Within</td>\n",
       "      <td>0.500</td>\n",
       "      <td>1</td>\n",
       "      <td>0.500</td>\n",
       "      <td>NaN</td>\n",
       "      <td>NaN</td>\n",
       "      <td>NaN</td>\n",
       "    </tr>\n",
       "    <tr>\n",
       "      <th>0</th>\n",
       "      <td>Limit</td>\n",
       "      <td>77.298</td>\n",
       "      <td>386</td>\n",
       "      <td>0.200</td>\n",
       "      <td>1.302</td>\n",
       "      <td>0.306</td>\n",
       "      <td>0.975</td>\n",
       "    </tr>\n",
       "    <tr>\n",
       "      <th>1</th>\n",
       "      <td>Within</td>\n",
       "      <td>2.000</td>\n",
       "      <td>13</td>\n",
       "      <td>0.154</td>\n",
       "      <td>NaN</td>\n",
       "      <td>NaN</td>\n",
       "      <td>NaN</td>\n",
       "    </tr>\n",
       "    <tr>\n",
       "      <th>0</th>\n",
       "      <td>Rating</td>\n",
       "      <td>56.098</td>\n",
       "      <td>282</td>\n",
       "      <td>0.199</td>\n",
       "      <td>1.003</td>\n",
       "      <td>0.500</td>\n",
       "      <td>0.707</td>\n",
       "    </tr>\n",
       "    <tr>\n",
       "      <th>1</th>\n",
       "      <td>Within</td>\n",
       "      <td>23.200</td>\n",
       "      <td>117</td>\n",
       "      <td>0.198</td>\n",
       "      <td>NaN</td>\n",
       "      <td>NaN</td>\n",
       "      <td>NaN</td>\n",
       "    </tr>\n",
       "    <tr>\n",
       "      <th>0</th>\n",
       "      <td>Cards</td>\n",
       "      <td>13.675</td>\n",
       "      <td>8</td>\n",
       "      <td>1.709</td>\n",
       "      <td>10.185</td>\n",
       "      <td>0.000</td>\n",
       "      <td>0.172</td>\n",
       "    </tr>\n",
       "    <tr>\n",
       "      <th>1</th>\n",
       "      <td>Within</td>\n",
       "      <td>65.622</td>\n",
       "      <td>391</td>\n",
       "      <td>0.168</td>\n",
       "      <td>NaN</td>\n",
       "      <td>NaN</td>\n",
       "      <td>NaN</td>\n",
       "    </tr>\n",
       "    <tr>\n",
       "      <th>0</th>\n",
       "      <td>Age</td>\n",
       "      <td>14.765</td>\n",
       "      <td>67</td>\n",
       "      <td>0.220</td>\n",
       "      <td>1.134</td>\n",
       "      <td>0.238</td>\n",
       "      <td>0.186</td>\n",
       "    </tr>\n",
       "    <tr>\n",
       "      <th>1</th>\n",
       "      <td>Within</td>\n",
       "      <td>64.532</td>\n",
       "      <td>332</td>\n",
       "      <td>0.194</td>\n",
       "      <td>NaN</td>\n",
       "      <td>NaN</td>\n",
       "      <td>NaN</td>\n",
       "    </tr>\n",
       "    <tr>\n",
       "      <th>0</th>\n",
       "      <td>Education</td>\n",
       "      <td>2.033</td>\n",
       "      <td>15</td>\n",
       "      <td>0.136</td>\n",
       "      <td>0.674</td>\n",
       "      <td>0.811</td>\n",
       "      <td>0.026</td>\n",
       "    </tr>\n",
       "    <tr>\n",
       "      <th>1</th>\n",
       "      <td>Within</td>\n",
       "      <td>77.264</td>\n",
       "      <td>384</td>\n",
       "      <td>0.201</td>\n",
       "      <td>NaN</td>\n",
       "      <td>NaN</td>\n",
       "      <td>NaN</td>\n",
       "    </tr>\n",
       "    <tr>\n",
       "      <th>0</th>\n",
       "      <td>Balance</td>\n",
       "      <td>73.009</td>\n",
       "      <td>283</td>\n",
       "      <td>0.258</td>\n",
       "      <td>4.759</td>\n",
       "      <td>0.000</td>\n",
       "      <td>0.921</td>\n",
       "    </tr>\n",
       "    <tr>\n",
       "      <th>1</th>\n",
       "      <td>Within</td>\n",
       "      <td>6.289</td>\n",
       "      <td>116</td>\n",
       "      <td>0.054</td>\n",
       "      <td>NaN</td>\n",
       "      <td>NaN</td>\n",
       "      <td>NaN</td>\n",
       "    </tr>\n",
       "  </tbody>\n",
       "</table>\n",
       "</div>"
      ],
      "text/plain": [
       "      Source      SS   DF     MS       F  p-unc    np2\n",
       "0     Income  78.798  398  0.198   0.396  0.887  0.994\n",
       "1     Within   0.500    1  0.500     NaN    NaN    NaN\n",
       "0      Limit  77.298  386  0.200   1.302  0.306  0.975\n",
       "1     Within   2.000   13  0.154     NaN    NaN    NaN\n",
       "0     Rating  56.098  282  0.199   1.003  0.500  0.707\n",
       "1     Within  23.200  117  0.198     NaN    NaN    NaN\n",
       "0      Cards  13.675    8  1.709  10.185  0.000  0.172\n",
       "1     Within  65.622  391  0.168     NaN    NaN    NaN\n",
       "0        Age  14.765   67  0.220   1.134  0.238  0.186\n",
       "1     Within  64.532  332  0.194     NaN    NaN    NaN\n",
       "0  Education   2.033   15  0.136   0.674  0.811  0.026\n",
       "1     Within  77.264  384  0.201     NaN    NaN    NaN\n",
       "0    Balance  73.009  283  0.258   4.759  0.000  0.921\n",
       "1     Within   6.289  116  0.054     NaN    NaN    NaN"
      ]
     },
     "execution_count": 22,
     "metadata": {},
     "output_type": "execute_result"
    }
   ],
   "source": [
    "pd.concat(aov)"
   ]
  },
  {
   "cell_type": "code",
   "execution_count": 23,
   "id": "2e17e387",
   "metadata": {},
   "outputs": [
    {
     "data": {
      "text/html": [
       "<div>\n",
       "<style scoped>\n",
       "    .dataframe tbody tr th:only-of-type {\n",
       "        vertical-align: middle;\n",
       "    }\n",
       "\n",
       "    .dataframe tbody tr th {\n",
       "        vertical-align: top;\n",
       "    }\n",
       "\n",
       "    .dataframe thead th {\n",
       "        text-align: right;\n",
       "    }\n",
       "</style>\n",
       "<table border=\"1\" class=\"dataframe\">\n",
       "  <thead>\n",
       "    <tr style=\"text-align: right;\">\n",
       "      <th></th>\n",
       "      <th>Source</th>\n",
       "      <th>F</th>\n",
       "    </tr>\n",
       "  </thead>\n",
       "  <tbody>\n",
       "    <tr>\n",
       "      <th>0</th>\n",
       "      <td>Income</td>\n",
       "      <td>0.396</td>\n",
       "    </tr>\n",
       "    <tr>\n",
       "      <th>0</th>\n",
       "      <td>Limit</td>\n",
       "      <td>1.302</td>\n",
       "    </tr>\n",
       "    <tr>\n",
       "      <th>0</th>\n",
       "      <td>Rating</td>\n",
       "      <td>1.003</td>\n",
       "    </tr>\n",
       "    <tr>\n",
       "      <th>0</th>\n",
       "      <td>Cards</td>\n",
       "      <td>10.185</td>\n",
       "    </tr>\n",
       "    <tr>\n",
       "      <th>0</th>\n",
       "      <td>Age</td>\n",
       "      <td>1.134</td>\n",
       "    </tr>\n",
       "    <tr>\n",
       "      <th>0</th>\n",
       "      <td>Education</td>\n",
       "      <td>0.674</td>\n",
       "    </tr>\n",
       "    <tr>\n",
       "      <th>0</th>\n",
       "      <td>Balance</td>\n",
       "      <td>4.759</td>\n",
       "    </tr>\n",
       "  </tbody>\n",
       "</table>\n",
       "</div>"
      ],
      "text/plain": [
       "      Source       F\n",
       "0     Income   0.396\n",
       "0      Limit   1.302\n",
       "0     Rating   1.003\n",
       "0      Cards  10.185\n",
       "0        Age   1.134\n",
       "0  Education   0.674\n",
       "0    Balance   4.759"
      ]
     },
     "execution_count": 23,
     "metadata": {},
     "output_type": "execute_result"
    }
   ],
   "source": [
    "anova_result = pd.concat(aov)\n",
    "anova_result = anova_result[anova_result.Source!='Within'][['Source','F']]\n",
    "anova_result"
   ]
  },
  {
   "cell_type": "code",
   "execution_count": 24,
   "id": "b4ea548f",
   "metadata": {
    "scrolled": true
   },
   "outputs": [
    {
     "name": "stderr",
     "output_type": "stream",
     "text": [
      "/opt/anaconda3/envs/clustering/lib/python3.9/site-packages/seaborn/_decorators.py:36: FutureWarning: Pass the following variables as keyword args: x, y. From version 0.12, the only valid positional argument will be `data`, and passing other arguments without an explicit keyword will result in an error or misinterpretation.\n",
      "  warnings.warn(\n"
     ]
    },
    {
     "data": {
      "image/png": "[encoded data removed]",
      "text/plain": [
       "<Figure size 864x432 with 1 Axes>"
      ]
     },
     "metadata": {
      "needs_background": "light"
     },
     "output_type": "display_data"
    }
   ],
   "source": [
    "plt.figure(figsize=(12,6))\n",
    "sns.barplot('Source', 'F', data=anova_result)\n",
    "plt.show()"
   ]
  },
  {
   "cell_type": "markdown",
   "id": "3cb13e24",
   "metadata": {},
   "source": [
    "Cards e Balance são ótimas escolhas de features."
   ]
  },
  {
   "cell_type": "markdown",
   "id": "db7a1038",
   "metadata": {},
   "source": [
    "#### Passando as features categóricas para numéricas com LabelEncoder"
   ]
  },
  {
   "cell_type": "code",
   "execution_count": 25,
   "id": "0b709486",
   "metadata": {},
   "outputs": [],
   "source": [
    "le = preprocessing.LabelEncoder()"
   ]
  },
  {
   "cell_type": "code",
   "execution_count": 26,
   "id": "0b75ad88",
   "metadata": {},
   "outputs": [
    {
     "name": "stderr",
     "output_type": "stream",
     "text": [
      "/opt/anaconda3/envs/clustering/lib/python3.9/site-packages/pandas/core/indexing.py:1773: SettingWithCopyWarning: \n",
      "A value is trying to be set on a copy of a slice from a DataFrame.\n",
      "Try using .loc[row_indexer,col_indexer] = value instead\n",
      "\n",
      "See the caveats in the documentation: https://pandas.pydata.org/pandas-docs/stable/user_guide/indexing.html#returning-a-view-versus-a-copy\n",
      "  self._setitem_single_column(ilocs[0], value, pi)\n"
     ]
    }
   ],
   "source": [
    "dataCategorical.loc[0:400,'Gender']  = le.fit_transform(dataCategorical['Gender']) #male = 0\n",
    "dataCategorical.loc[0:400,'Student']  = le.fit_transform(dataCategorical['Student']) #no = 0\n",
    "dataCategorical.loc[0:400,'Married']  = le.fit_transform(dataCategorical['Married']) #no = 0\n",
    "dataCategorical.loc[0:400,'Ethnicity']  = le.fit_transform(dataCategorical['Ethnicity']) #African = 0, Asian =1, Caucasian = 0\n",
    "dataCategorical.loc[0:400,'isDefault']  = le.fit_transform(dataCategorical['isDefault']) #false = 0"
   ]
  },
  {
   "cell_type": "code",
   "execution_count": 27,
   "id": "2702a961",
   "metadata": {},
   "outputs": [
    {
     "data": {
      "text/html": [
       "<div>\n",
       "<style scoped>\n",
       "    .dataframe tbody tr th:only-of-type {\n",
       "        vertical-align: middle;\n",
       "    }\n",
       "\n",
       "    .dataframe tbody tr th {\n",
       "        vertical-align: top;\n",
       "    }\n",
       "\n",
       "    .dataframe thead th {\n",
       "        text-align: right;\n",
       "    }\n",
       "</style>\n",
       "<table border=\"1\" class=\"dataframe\">\n",
       "  <thead>\n",
       "    <tr style=\"text-align: right;\">\n",
       "      <th></th>\n",
       "      <th>Gender</th>\n",
       "      <th>Student</th>\n",
       "      <th>Married</th>\n",
       "      <th>Ethnicity</th>\n",
       "      <th>isDefault</th>\n",
       "    </tr>\n",
       "  </thead>\n",
       "  <tbody>\n",
       "    <tr>\n",
       "      <th>0</th>\n",
       "      <td>0</td>\n",
       "      <td>0</td>\n",
       "      <td>1</td>\n",
       "      <td>2</td>\n",
       "      <td>1</td>\n",
       "    </tr>\n",
       "    <tr>\n",
       "      <th>1</th>\n",
       "      <td>1</td>\n",
       "      <td>1</td>\n",
       "      <td>1</td>\n",
       "      <td>1</td>\n",
       "      <td>0</td>\n",
       "    </tr>\n",
       "    <tr>\n",
       "      <th>2</th>\n",
       "      <td>0</td>\n",
       "      <td>0</td>\n",
       "      <td>0</td>\n",
       "      <td>1</td>\n",
       "      <td>0</td>\n",
       "    </tr>\n",
       "    <tr>\n",
       "      <th>3</th>\n",
       "      <td>1</td>\n",
       "      <td>0</td>\n",
       "      <td>0</td>\n",
       "      <td>1</td>\n",
       "      <td>0</td>\n",
       "    </tr>\n",
       "    <tr>\n",
       "      <th>4</th>\n",
       "      <td>0</td>\n",
       "      <td>0</td>\n",
       "      <td>1</td>\n",
       "      <td>2</td>\n",
       "      <td>0</td>\n",
       "    </tr>\n",
       "    <tr>\n",
       "      <th>...</th>\n",
       "      <td>...</td>\n",
       "      <td>...</td>\n",
       "      <td>...</td>\n",
       "      <td>...</td>\n",
       "      <td>...</td>\n",
       "    </tr>\n",
       "    <tr>\n",
       "      <th>395</th>\n",
       "      <td>0</td>\n",
       "      <td>0</td>\n",
       "      <td>1</td>\n",
       "      <td>2</td>\n",
       "      <td>1</td>\n",
       "    </tr>\n",
       "    <tr>\n",
       "      <th>396</th>\n",
       "      <td>0</td>\n",
       "      <td>0</td>\n",
       "      <td>0</td>\n",
       "      <td>0</td>\n",
       "      <td>1</td>\n",
       "    </tr>\n",
       "    <tr>\n",
       "      <th>397</th>\n",
       "      <td>1</td>\n",
       "      <td>0</td>\n",
       "      <td>1</td>\n",
       "      <td>2</td>\n",
       "      <td>0</td>\n",
       "    </tr>\n",
       "    <tr>\n",
       "      <th>398</th>\n",
       "      <td>0</td>\n",
       "      <td>0</td>\n",
       "      <td>1</td>\n",
       "      <td>2</td>\n",
       "      <td>0</td>\n",
       "    </tr>\n",
       "    <tr>\n",
       "      <th>399</th>\n",
       "      <td>1</td>\n",
       "      <td>0</td>\n",
       "      <td>0</td>\n",
       "      <td>1</td>\n",
       "      <td>1</td>\n",
       "    </tr>\n",
       "  </tbody>\n",
       "</table>\n",
       "<p>400 rows × 5 columns</p>\n",
       "</div>"
      ],
      "text/plain": [
       "     Gender  Student  Married  Ethnicity  isDefault\n",
       "0         0        0        1          2          1\n",
       "1         1        1        1          1          0\n",
       "2         0        0        0          1          0\n",
       "3         1        0        0          1          0\n",
       "4         0        0        1          2          0\n",
       "..      ...      ...      ...        ...        ...\n",
       "395       0        0        1          2          1\n",
       "396       0        0        0          0          1\n",
       "397       1        0        1          2          0\n",
       "398       0        0        1          2          0\n",
       "399       1        0        0          1          1\n",
       "\n",
       "[400 rows x 5 columns]"
      ]
     },
     "execution_count": 27,
     "metadata": {},
     "output_type": "execute_result"
    }
   ],
   "source": [
    "dataCategorical"
   ]
  },
  {
   "cell_type": "code",
   "execution_count": 28,
   "id": "893e042d",
   "metadata": {},
   "outputs": [],
   "source": [
    "data[['Gender', 'Student', 'Married', 'Ethnicity', \"isDefault\"]] = dataCategorical[['Gender', 'Student', 'Married', 'Ethnicity', \"isDefault\"]]"
   ]
  },
  {
   "cell_type": "code",
   "execution_count": 29,
   "id": "be8f193d",
   "metadata": {
    "scrolled": true
   },
   "outputs": [
    {
     "data": {
      "text/html": [
       "<div>\n",
       "<style scoped>\n",
       "    .dataframe tbody tr th:only-of-type {\n",
       "        vertical-align: middle;\n",
       "    }\n",
       "\n",
       "    .dataframe tbody tr th {\n",
       "        vertical-align: top;\n",
       "    }\n",
       "\n",
       "    .dataframe thead th {\n",
       "        text-align: right;\n",
       "    }\n",
       "</style>\n",
       "<table border=\"1\" class=\"dataframe\">\n",
       "  <thead>\n",
       "    <tr style=\"text-align: right;\">\n",
       "      <th></th>\n",
       "      <th>Income</th>\n",
       "      <th>Limit</th>\n",
       "      <th>Rating</th>\n",
       "      <th>Cards</th>\n",
       "      <th>Age</th>\n",
       "      <th>Education</th>\n",
       "      <th>Gender</th>\n",
       "      <th>Student</th>\n",
       "      <th>Married</th>\n",
       "      <th>Ethnicity</th>\n",
       "      <th>Balance</th>\n",
       "      <th>isDefault</th>\n",
       "    </tr>\n",
       "  </thead>\n",
       "  <tbody>\n",
       "    <tr>\n",
       "      <th>0</th>\n",
       "      <td>14.891</td>\n",
       "      <td>3606</td>\n",
       "      <td>283</td>\n",
       "      <td>2</td>\n",
       "      <td>34</td>\n",
       "      <td>11</td>\n",
       "      <td>0</td>\n",
       "      <td>0</td>\n",
       "      <td>1</td>\n",
       "      <td>2</td>\n",
       "      <td>333</td>\n",
       "      <td>1</td>\n",
       "    </tr>\n",
       "    <tr>\n",
       "      <th>1</th>\n",
       "      <td>106.025</td>\n",
       "      <td>6645</td>\n",
       "      <td>483</td>\n",
       "      <td>3</td>\n",
       "      <td>82</td>\n",
       "      <td>15</td>\n",
       "      <td>1</td>\n",
       "      <td>1</td>\n",
       "      <td>1</td>\n",
       "      <td>1</td>\n",
       "      <td>903</td>\n",
       "      <td>0</td>\n",
       "    </tr>\n",
       "    <tr>\n",
       "      <th>2</th>\n",
       "      <td>104.593</td>\n",
       "      <td>7075</td>\n",
       "      <td>514</td>\n",
       "      <td>4</td>\n",
       "      <td>71</td>\n",
       "      <td>11</td>\n",
       "      <td>0</td>\n",
       "      <td>0</td>\n",
       "      <td>0</td>\n",
       "      <td>1</td>\n",
       "      <td>580</td>\n",
       "      <td>0</td>\n",
       "    </tr>\n",
       "    <tr>\n",
       "      <th>3</th>\n",
       "      <td>148.924</td>\n",
       "      <td>9504</td>\n",
       "      <td>681</td>\n",
       "      <td>3</td>\n",
       "      <td>36</td>\n",
       "      <td>11</td>\n",
       "      <td>1</td>\n",
       "      <td>0</td>\n",
       "      <td>0</td>\n",
       "      <td>1</td>\n",
       "      <td>964</td>\n",
       "      <td>0</td>\n",
       "    </tr>\n",
       "    <tr>\n",
       "      <th>4</th>\n",
       "      <td>55.882</td>\n",
       "      <td>4897</td>\n",
       "      <td>357</td>\n",
       "      <td>2</td>\n",
       "      <td>68</td>\n",
       "      <td>16</td>\n",
       "      <td>0</td>\n",
       "      <td>0</td>\n",
       "      <td>1</td>\n",
       "      <td>2</td>\n",
       "      <td>331</td>\n",
       "      <td>0</td>\n",
       "    </tr>\n",
       "    <tr>\n",
       "      <th>...</th>\n",
       "      <td>...</td>\n",
       "      <td>...</td>\n",
       "      <td>...</td>\n",
       "      <td>...</td>\n",
       "      <td>...</td>\n",
       "      <td>...</td>\n",
       "      <td>...</td>\n",
       "      <td>...</td>\n",
       "      <td>...</td>\n",
       "      <td>...</td>\n",
       "      <td>...</td>\n",
       "      <td>...</td>\n",
       "    </tr>\n",
       "    <tr>\n",
       "      <th>395</th>\n",
       "      <td>12.096</td>\n",
       "      <td>4100</td>\n",
       "      <td>307</td>\n",
       "      <td>3</td>\n",
       "      <td>32</td>\n",
       "      <td>13</td>\n",
       "      <td>0</td>\n",
       "      <td>0</td>\n",
       "      <td>1</td>\n",
       "      <td>2</td>\n",
       "      <td>560</td>\n",
       "      <td>1</td>\n",
       "    </tr>\n",
       "    <tr>\n",
       "      <th>396</th>\n",
       "      <td>13.364</td>\n",
       "      <td>3838</td>\n",
       "      <td>296</td>\n",
       "      <td>5</td>\n",
       "      <td>65</td>\n",
       "      <td>17</td>\n",
       "      <td>0</td>\n",
       "      <td>0</td>\n",
       "      <td>0</td>\n",
       "      <td>0</td>\n",
       "      <td>480</td>\n",
       "      <td>1</td>\n",
       "    </tr>\n",
       "    <tr>\n",
       "      <th>397</th>\n",
       "      <td>57.872</td>\n",
       "      <td>4171</td>\n",
       "      <td>321</td>\n",
       "      <td>5</td>\n",
       "      <td>67</td>\n",
       "      <td>12</td>\n",
       "      <td>1</td>\n",
       "      <td>0</td>\n",
       "      <td>1</td>\n",
       "      <td>2</td>\n",
       "      <td>138</td>\n",
       "      <td>0</td>\n",
       "    </tr>\n",
       "    <tr>\n",
       "      <th>398</th>\n",
       "      <td>37.728</td>\n",
       "      <td>2525</td>\n",
       "      <td>192</td>\n",
       "      <td>1</td>\n",
       "      <td>44</td>\n",
       "      <td>13</td>\n",
       "      <td>0</td>\n",
       "      <td>0</td>\n",
       "      <td>1</td>\n",
       "      <td>2</td>\n",
       "      <td>0</td>\n",
       "      <td>0</td>\n",
       "    </tr>\n",
       "    <tr>\n",
       "      <th>399</th>\n",
       "      <td>18.701</td>\n",
       "      <td>5524</td>\n",
       "      <td>415</td>\n",
       "      <td>5</td>\n",
       "      <td>64</td>\n",
       "      <td>7</td>\n",
       "      <td>1</td>\n",
       "      <td>0</td>\n",
       "      <td>0</td>\n",
       "      <td>1</td>\n",
       "      <td>966</td>\n",
       "      <td>1</td>\n",
       "    </tr>\n",
       "  </tbody>\n",
       "</table>\n",
       "<p>400 rows × 12 columns</p>\n",
       "</div>"
      ],
      "text/plain": [
       "      Income  Limit  Rating  Cards  Age  Education  Gender  Student  Married  \\\n",
       "0     14.891   3606     283      2   34         11       0        0        1   \n",
       "1    106.025   6645     483      3   82         15       1        1        1   \n",
       "2    104.593   7075     514      4   71         11       0        0        0   \n",
       "3    148.924   9504     681      3   36         11       1        0        0   \n",
       "4     55.882   4897     357      2   68         16       0        0        1   \n",
       "..       ...    ...     ...    ...  ...        ...     ...      ...      ...   \n",
       "395   12.096   4100     307      3   32         13       0        0        1   \n",
       "396   13.364   3838     296      5   65         17       0        0        0   \n",
       "397   57.872   4171     321      5   67         12       1        0        1   \n",
       "398   37.728   2525     192      1   44         13       0        0        1   \n",
       "399   18.701   5524     415      5   64          7       1        0        0   \n",
       "\n",
       "     Ethnicity  Balance  isDefault  \n",
       "0            2      333          1  \n",
       "1            1      903          0  \n",
       "2            1      580          0  \n",
       "3            1      964          0  \n",
       "4            2      331          0  \n",
       "..         ...      ...        ...  \n",
       "395          2      560          1  \n",
       "396          0      480          1  \n",
       "397          2      138          0  \n",
       "398          2        0          0  \n",
       "399          1      966          1  \n",
       "\n",
       "[400 rows x 12 columns]"
      ]
     },
     "execution_count": 29,
     "metadata": {},
     "output_type": "execute_result"
    }
   ],
   "source": [
    "data"
   ]
  },
  {
   "cell_type": "markdown",
   "id": "21ddc602",
   "metadata": {},
   "source": [
    "### Verificar as features categóricas com Chi-Squared "
   ]
  },
  {
   "cell_type": "markdown",
   "id": "6ec7a7e9",
   "metadata": {},
   "source": [
    "Chi Quadrado mede a relação de dependência entre duas variáveis categóricas, verificando como os valores esperados desviam dos valores observados. Quando temos um alto valor de Chi-quadrado (nosso p-value será baixo), significa que temos evidência estatística para inferir que os valores observados e esperados não são os mesmos, portanto possuem dependência entre si.\n",
    "Quanto mais alto o Chi-quadrado, maior a dependência entre as variáveis."
   ]
  },
  {
   "cell_type": "code",
   "execution_count": 30,
   "id": "945d3aae",
   "metadata": {},
   "outputs": [],
   "source": [
    "from sklearn.feature_selection import chi2"
   ]
  },
  {
   "cell_type": "code",
   "execution_count": 31,
   "id": "81893527",
   "metadata": {},
   "outputs": [],
   "source": [
    "X = dataCategorical.drop([\"isDefault\"],axis=1)\n",
    "y = dataCategorical.isDefault"
   ]
  },
  {
   "cell_type": "code",
   "execution_count": 32,
   "id": "8fd82bdb",
   "metadata": {},
   "outputs": [],
   "source": [
    "chi_scores = chi2(X,y)\n",
    "scores = pd.Series(chi_scores[0], index=X.columns)\n",
    "pvalues = pd.Series(chi_scores[1], index=X.columns)"
   ]
  },
  {
   "cell_type": "code",
   "execution_count": 33,
   "id": "2e500bcf",
   "metadata": {
    "scrolled": true
   },
   "outputs": [
    {
     "data": {
      "text/html": [
       "<div>\n",
       "<style scoped>\n",
       "    .dataframe tbody tr th:only-of-type {\n",
       "        vertical-align: middle;\n",
       "    }\n",
       "\n",
       "    .dataframe tbody tr th {\n",
       "        vertical-align: top;\n",
       "    }\n",
       "\n",
       "    .dataframe thead th {\n",
       "        text-align: right;\n",
       "    }\n",
       "</style>\n",
       "<table border=\"1\" class=\"dataframe\">\n",
       "  <thead>\n",
       "    <tr style=\"text-align: right;\">\n",
       "      <th></th>\n",
       "      <th>Chi2</th>\n",
       "      <th>p-Value</th>\n",
       "    </tr>\n",
       "  </thead>\n",
       "  <tbody>\n",
       "    <tr>\n",
       "      <th>Gender</th>\n",
       "      <td>0.282945</td>\n",
       "      <td>0.594777</td>\n",
       "    </tr>\n",
       "    <tr>\n",
       "      <th>Student</th>\n",
       "      <td>3.280053</td>\n",
       "      <td>0.070127</td>\n",
       "    </tr>\n",
       "    <tr>\n",
       "      <th>Married</th>\n",
       "      <td>0.001161</td>\n",
       "      <td>0.972815</td>\n",
       "    </tr>\n",
       "    <tr>\n",
       "      <th>Ethnicity</th>\n",
       "      <td>0.030896</td>\n",
       "      <td>0.860472</td>\n",
       "    </tr>\n",
       "  </tbody>\n",
       "</table>\n",
       "</div>"
      ],
      "text/plain": [
       "               Chi2   p-Value\n",
       "Gender     0.282945  0.594777\n",
       "Student    3.280053  0.070127\n",
       "Married    0.001161  0.972815\n",
       "Ethnicity  0.030896  0.860472"
      ]
     },
     "execution_count": 33,
     "metadata": {},
     "output_type": "execute_result"
    }
   ],
   "source": [
    "pd.DataFrame({'Chi2':scores, 'p-Value':pvalues})"
   ]
  },
  {
   "cell_type": "markdown",
   "id": "0cfcc9b2",
   "metadata": {},
   "source": [
    "Como resultado, temos que os menores Chi2 scores/ maiores p-Values são os atributos menos dependentes da variável target "
   ]
  },
  {
   "cell_type": "markdown",
   "id": "32bbc249",
   "metadata": {},
   "source": [
    "Student é uma feature com forte dependência do nosso target"
   ]
  },
  {
   "cell_type": "markdown",
   "id": "59d3a2a0",
   "metadata": {},
   "source": [
    "### Normalizar todas as features"
   ]
  },
  {
   "cell_type": "code",
   "execution_count": 34,
   "id": "14785c05",
   "metadata": {},
   "outputs": [],
   "source": [
    "from sklearn.preprocessing import StandardScaler, MinMaxScaler, RobustScaler"
   ]
  },
  {
   "cell_type": "code",
   "execution_count": null,
   "id": "0c75872e",
   "metadata": {
    "scrolled": true
   },
   "outputs": [],
   "source": []
  },
  {
   "cell_type": "code",
   "execution_count": 35,
   "id": "e5294ee7",
   "metadata": {},
   "outputs": [],
   "source": [
    "scaler = StandardScaler()\n",
    "db = preprocessing.StandardScaler().fit(data).transform(data.astype(float))"
   ]
  },
  {
   "cell_type": "code",
   "execution_count": 36,
   "id": "6fee575d",
   "metadata": {},
   "outputs": [],
   "source": [
    "db = pd.DataFrame(db, columns = [\"Income\",\"Limit\",\"Rating\",\"Cards\",\"Age\",\"Education\",\"Gender\",\"Student\",\"Married\",\"Ethnicity\",\"Balance\",\"isDefault\"])"
   ]
  },
  {
   "cell_type": "code",
   "execution_count": 37,
   "id": "2516682a",
   "metadata": {
    "scrolled": true
   },
   "outputs": [
    {
     "data": {
      "text/html": [
       "<div>\n",
       "<style scoped>\n",
       "    .dataframe tbody tr th:only-of-type {\n",
       "        vertical-align: middle;\n",
       "    }\n",
       "\n",
       "    .dataframe tbody tr th {\n",
       "        vertical-align: top;\n",
       "    }\n",
       "\n",
       "    .dataframe thead th {\n",
       "        text-align: right;\n",
       "    }\n",
       "</style>\n",
       "<table border=\"1\" class=\"dataframe\">\n",
       "  <thead>\n",
       "    <tr style=\"text-align: right;\">\n",
       "      <th></th>\n",
       "      <th>Income</th>\n",
       "      <th>Limit</th>\n",
       "      <th>Rating</th>\n",
       "      <th>Cards</th>\n",
       "      <th>Age</th>\n",
       "      <th>Education</th>\n",
       "      <th>Gender</th>\n",
       "      <th>Student</th>\n",
       "      <th>Married</th>\n",
       "      <th>Ethnicity</th>\n",
       "      <th>Balance</th>\n",
       "      <th>isDefault</th>\n",
       "    </tr>\n",
       "  </thead>\n",
       "  <tbody>\n",
       "    <tr>\n",
       "      <th>0</th>\n",
       "      <td>-0.861583</td>\n",
       "      <td>-0.489999</td>\n",
       "      <td>-0.465539</td>\n",
       "      <td>-0.699130</td>\n",
       "      <td>-1.257674</td>\n",
       "      <td>-0.784930</td>\n",
       "      <td>-1.035635</td>\n",
       "      <td>-0.333333</td>\n",
       "      <td>0.795395</td>\n",
       "      <td>0.907841</td>\n",
       "      <td>-0.407277</td>\n",
       "      <td>1.633929</td>\n",
       "    </tr>\n",
       "    <tr>\n",
       "      <th>1</th>\n",
       "      <td>1.727437</td>\n",
       "      <td>0.828261</td>\n",
       "      <td>0.828703</td>\n",
       "      <td>0.031032</td>\n",
       "      <td>1.528451</td>\n",
       "      <td>0.496588</td>\n",
       "      <td>0.965592</td>\n",
       "      <td>3.000000</td>\n",
       "      <td>0.795395</td>\n",
       "      <td>-0.302614</td>\n",
       "      <td>0.834056</td>\n",
       "      <td>-0.612022</td>\n",
       "    </tr>\n",
       "    <tr>\n",
       "      <th>2</th>\n",
       "      <td>1.686756</td>\n",
       "      <td>1.014787</td>\n",
       "      <td>1.029311</td>\n",
       "      <td>0.761194</td>\n",
       "      <td>0.889964</td>\n",
       "      <td>-0.784930</td>\n",
       "      <td>-1.035635</td>\n",
       "      <td>-0.333333</td>\n",
       "      <td>-1.257237</td>\n",
       "      <td>-0.302614</td>\n",
       "      <td>0.130634</td>\n",
       "      <td>-0.612022</td>\n",
       "    </tr>\n",
       "    <tr>\n",
       "      <th>3</th>\n",
       "      <td>2.946152</td>\n",
       "      <td>2.068440</td>\n",
       "      <td>2.110003</td>\n",
       "      <td>0.031032</td>\n",
       "      <td>-1.141586</td>\n",
       "      <td>-0.784930</td>\n",
       "      <td>0.965592</td>\n",
       "      <td>-0.333333</td>\n",
       "      <td>-1.257237</td>\n",
       "      <td>-0.302614</td>\n",
       "      <td>0.966900</td>\n",
       "      <td>-0.612022</td>\n",
       "    </tr>\n",
       "    <tr>\n",
       "      <th>4</th>\n",
       "      <td>0.302928</td>\n",
       "      <td>0.070012</td>\n",
       "      <td>0.013331</td>\n",
       "      <td>-0.699130</td>\n",
       "      <td>0.715831</td>\n",
       "      <td>0.816968</td>\n",
       "      <td>-1.035635</td>\n",
       "      <td>-0.333333</td>\n",
       "      <td>0.795395</td>\n",
       "      <td>0.907841</td>\n",
       "      <td>-0.411633</td>\n",
       "      <td>-0.612022</td>\n",
       "    </tr>\n",
       "    <tr>\n",
       "      <th>...</th>\n",
       "      <td>...</td>\n",
       "      <td>...</td>\n",
       "      <td>...</td>\n",
       "      <td>...</td>\n",
       "      <td>...</td>\n",
       "      <td>...</td>\n",
       "      <td>...</td>\n",
       "      <td>...</td>\n",
       "      <td>...</td>\n",
       "      <td>...</td>\n",
       "      <td>...</td>\n",
       "      <td>...</td>\n",
       "    </tr>\n",
       "    <tr>\n",
       "      <th>395</th>\n",
       "      <td>-0.940986</td>\n",
       "      <td>-0.275711</td>\n",
       "      <td>-0.310230</td>\n",
       "      <td>0.031032</td>\n",
       "      <td>-1.373763</td>\n",
       "      <td>-0.144171</td>\n",
       "      <td>-1.035635</td>\n",
       "      <td>-0.333333</td>\n",
       "      <td>0.795395</td>\n",
       "      <td>0.907841</td>\n",
       "      <td>0.087078</td>\n",
       "      <td>1.633929</td>\n",
       "    </tr>\n",
       "    <tr>\n",
       "      <th>396</th>\n",
       "      <td>-0.904963</td>\n",
       "      <td>-0.389362</td>\n",
       "      <td>-0.381413</td>\n",
       "      <td>1.491355</td>\n",
       "      <td>0.541698</td>\n",
       "      <td>1.137347</td>\n",
       "      <td>-1.035635</td>\n",
       "      <td>-0.333333</td>\n",
       "      <td>-1.257237</td>\n",
       "      <td>-1.513069</td>\n",
       "      <td>-0.087144</td>\n",
       "      <td>1.633929</td>\n",
       "    </tr>\n",
       "    <tr>\n",
       "      <th>397</th>\n",
       "      <td>0.359462</td>\n",
       "      <td>-0.244913</td>\n",
       "      <td>-0.219633</td>\n",
       "      <td>1.491355</td>\n",
       "      <td>0.657787</td>\n",
       "      <td>-0.464550</td>\n",
       "      <td>0.965592</td>\n",
       "      <td>-0.333333</td>\n",
       "      <td>0.795395</td>\n",
       "      <td>0.907841</td>\n",
       "      <td>-0.831944</td>\n",
       "      <td>-0.612022</td>\n",
       "    </tr>\n",
       "    <tr>\n",
       "      <th>398</th>\n",
       "      <td>-0.212808</td>\n",
       "      <td>-0.958916</td>\n",
       "      <td>-1.054419</td>\n",
       "      <td>-1.429291</td>\n",
       "      <td>-0.677231</td>\n",
       "      <td>-0.144171</td>\n",
       "      <td>-1.035635</td>\n",
       "      <td>-0.333333</td>\n",
       "      <td>0.795395</td>\n",
       "      <td>0.907841</td>\n",
       "      <td>-1.132477</td>\n",
       "      <td>-0.612022</td>\n",
       "    </tr>\n",
       "    <tr>\n",
       "      <th>399</th>\n",
       "      <td>-0.753345</td>\n",
       "      <td>0.341993</td>\n",
       "      <td>0.388661</td>\n",
       "      <td>1.491355</td>\n",
       "      <td>0.483654</td>\n",
       "      <td>-2.066448</td>\n",
       "      <td>0.965592</td>\n",
       "      <td>-0.333333</td>\n",
       "      <td>-1.257237</td>\n",
       "      <td>-0.302614</td>\n",
       "      <td>0.971256</td>\n",
       "      <td>1.633929</td>\n",
       "    </tr>\n",
       "  </tbody>\n",
       "</table>\n",
       "<p>400 rows × 12 columns</p>\n",
       "</div>"
      ],
      "text/plain": [
       "       Income     Limit    Rating     Cards       Age  Education    Gender  \\\n",
       "0   -0.861583 -0.489999 -0.465539 -0.699130 -1.257674  -0.784930 -1.035635   \n",
       "1    1.727437  0.828261  0.828703  0.031032  1.528451   0.496588  0.965592   \n",
       "2    1.686756  1.014787  1.029311  0.761194  0.889964  -0.784930 -1.035635   \n",
       "3    2.946152  2.068440  2.110003  0.031032 -1.141586  -0.784930  0.965592   \n",
       "4    0.302928  0.070012  0.013331 -0.699130  0.715831   0.816968 -1.035635   \n",
       "..        ...       ...       ...       ...       ...        ...       ...   \n",
       "395 -0.940986 -0.275711 -0.310230  0.031032 -1.373763  -0.144171 -1.035635   \n",
       "396 -0.904963 -0.389362 -0.381413  1.491355  0.541698   1.137347 -1.035635   \n",
       "397  0.359462 -0.244913 -0.219633  1.491355  0.657787  -0.464550  0.965592   \n",
       "398 -0.212808 -0.958916 -1.054419 -1.429291 -0.677231  -0.144171 -1.035635   \n",
       "399 -0.753345  0.341993  0.388661  1.491355  0.483654  -2.066448  0.965592   \n",
       "\n",
       "      Student   Married  Ethnicity   Balance  isDefault  \n",
       "0   -0.333333  0.795395   0.907841 -0.407277   1.633929  \n",
       "1    3.000000  0.795395  -0.302614  0.834056  -0.612022  \n",
       "2   -0.333333 -1.257237  -0.302614  0.130634  -0.612022  \n",
       "3   -0.333333 -1.257237  -0.302614  0.966900  -0.612022  \n",
       "4   -0.333333  0.795395   0.907841 -0.411633  -0.612022  \n",
       "..        ...       ...        ...       ...        ...  \n",
       "395 -0.333333  0.795395   0.907841  0.087078   1.633929  \n",
       "396 -0.333333 -1.257237  -1.513069 -0.087144   1.633929  \n",
       "397 -0.333333  0.795395   0.907841 -0.831944  -0.612022  \n",
       "398 -0.333333  0.795395   0.907841 -1.132477  -0.612022  \n",
       "399 -0.333333 -1.257237  -0.302614  0.971256   1.633929  \n",
       "\n",
       "[400 rows x 12 columns]"
      ]
     },
     "execution_count": 37,
     "metadata": {},
     "output_type": "execute_result"
    }
   ],
   "source": [
    "db"
   ]
  },
  {
   "cell_type": "code",
   "execution_count": 38,
   "id": "0ebdf6ed",
   "metadata": {},
   "outputs": [
    {
     "data": {
      "text/html": [
       "<div>\n",
       "<style scoped>\n",
       "    .dataframe tbody tr th:only-of-type {\n",
       "        vertical-align: middle;\n",
       "    }\n",
       "\n",
       "    .dataframe tbody tr th {\n",
       "        vertical-align: top;\n",
       "    }\n",
       "\n",
       "    .dataframe thead th {\n",
       "        text-align: right;\n",
       "    }\n",
       "</style>\n",
       "<table border=\"1\" class=\"dataframe\">\n",
       "  <thead>\n",
       "    <tr style=\"text-align: right;\">\n",
       "      <th></th>\n",
       "      <th>Cards</th>\n",
       "      <th>Student</th>\n",
       "      <th>Balance</th>\n",
       "    </tr>\n",
       "  </thead>\n",
       "  <tbody>\n",
       "    <tr>\n",
       "      <th>0</th>\n",
       "      <td>-0.699130</td>\n",
       "      <td>-0.333333</td>\n",
       "      <td>-0.407277</td>\n",
       "    </tr>\n",
       "    <tr>\n",
       "      <th>1</th>\n",
       "      <td>0.031032</td>\n",
       "      <td>3.000000</td>\n",
       "      <td>0.834056</td>\n",
       "    </tr>\n",
       "    <tr>\n",
       "      <th>2</th>\n",
       "      <td>0.761194</td>\n",
       "      <td>-0.333333</td>\n",
       "      <td>0.130634</td>\n",
       "    </tr>\n",
       "    <tr>\n",
       "      <th>3</th>\n",
       "      <td>0.031032</td>\n",
       "      <td>-0.333333</td>\n",
       "      <td>0.966900</td>\n",
       "    </tr>\n",
       "    <tr>\n",
       "      <th>4</th>\n",
       "      <td>-0.699130</td>\n",
       "      <td>-0.333333</td>\n",
       "      <td>-0.411633</td>\n",
       "    </tr>\n",
       "    <tr>\n",
       "      <th>...</th>\n",
       "      <td>...</td>\n",
       "      <td>...</td>\n",
       "      <td>...</td>\n",
       "    </tr>\n",
       "    <tr>\n",
       "      <th>395</th>\n",
       "      <td>0.031032</td>\n",
       "      <td>-0.333333</td>\n",
       "      <td>0.087078</td>\n",
       "    </tr>\n",
       "    <tr>\n",
       "      <th>396</th>\n",
       "      <td>1.491355</td>\n",
       "      <td>-0.333333</td>\n",
       "      <td>-0.087144</td>\n",
       "    </tr>\n",
       "    <tr>\n",
       "      <th>397</th>\n",
       "      <td>1.491355</td>\n",
       "      <td>-0.333333</td>\n",
       "      <td>-0.831944</td>\n",
       "    </tr>\n",
       "    <tr>\n",
       "      <th>398</th>\n",
       "      <td>-1.429291</td>\n",
       "      <td>-0.333333</td>\n",
       "      <td>-1.132477</td>\n",
       "    </tr>\n",
       "    <tr>\n",
       "      <th>399</th>\n",
       "      <td>1.491355</td>\n",
       "      <td>-0.333333</td>\n",
       "      <td>0.971256</td>\n",
       "    </tr>\n",
       "  </tbody>\n",
       "</table>\n",
       "<p>400 rows × 3 columns</p>\n",
       "</div>"
      ],
      "text/plain": [
       "        Cards   Student   Balance\n",
       "0   -0.699130 -0.333333 -0.407277\n",
       "1    0.031032  3.000000  0.834056\n",
       "2    0.761194 -0.333333  0.130634\n",
       "3    0.031032 -0.333333  0.966900\n",
       "4   -0.699130 -0.333333 -0.411633\n",
       "..        ...       ...       ...\n",
       "395  0.031032 -0.333333  0.087078\n",
       "396  1.491355 -0.333333 -0.087144\n",
       "397  1.491355 -0.333333 -0.831944\n",
       "398 -1.429291 -0.333333 -1.132477\n",
       "399  1.491355 -0.333333  0.971256\n",
       "\n",
       "[400 rows x 3 columns]"
      ]
     },
     "execution_count": 38,
     "metadata": {},
     "output_type": "execute_result"
    }
   ],
   "source": [
    "data_for_model = db.drop([\"Income\",\"Limit\",\"Rating\",\"Age\",\"Education\",\"Gender\",\"Married\",\"Ethnicity\",\"isDefault\"],axis =1)\n",
    "data_for_model\n"
   ]
  },
  {
   "cell_type": "markdown",
   "id": "a2bd4f9d",
   "metadata": {},
   "source": [
    "### Train Test Split"
   ]
  },
  {
   "cell_type": "code",
   "execution_count": 39,
   "id": "21a6ac16",
   "metadata": {},
   "outputs": [],
   "source": [
    "from sklearn.model_selection import train_test_split"
   ]
  },
  {
   "cell_type": "code",
   "execution_count": 40,
   "id": "b8ccd706",
   "metadata": {},
   "outputs": [],
   "source": [
    "y = data['isDefault']"
   ]
  },
  {
   "cell_type": "code",
   "execution_count": 41,
   "id": "5c9102d0",
   "metadata": {},
   "outputs": [],
   "source": [
    "X_train, X_test, y_train, y_test = train_test_split(data_for_model,y, test_size=0.3) # 70% training and 30% test"
   ]
  },
  {
   "cell_type": "markdown",
   "id": "616c62af",
   "metadata": {},
   "source": [
    "## Cross-validation"
   ]
  },
  {
   "cell_type": "code",
   "execution_count": 42,
   "id": "2ae7b19c",
   "metadata": {},
   "outputs": [],
   "source": [
    "from sklearn.neighbors import KNeighborsClassifier"
   ]
  },
  {
   "cell_type": "code",
   "execution_count": 43,
   "id": "c992ffeb",
   "metadata": {},
   "outputs": [],
   "source": [
    "knn = KNeighborsClassifier(n_neighbors=3)"
   ]
  },
  {
   "cell_type": "code",
   "execution_count": 44,
   "id": "c959993b",
   "metadata": {
    "scrolled": true
   },
   "outputs": [],
   "source": [
    "knn.fit(X_train,y_train)\n",
    "y_pred = knn.predict(X_test)"
   ]
  },
  {
   "cell_type": "markdown",
   "id": "52cb6216",
   "metadata": {},
   "source": [
    "### Evaluation"
   ]
  },
  {
   "cell_type": "code",
   "execution_count": 45,
   "id": "be8d3904",
   "metadata": {},
   "outputs": [],
   "source": [
    "from sklearn import metrics\n",
    "from sklearn.metrics import confusion_matrix, ConfusionMatrixDisplay, f1_score, precision_score, recall_score"
   ]
  },
  {
   "cell_type": "code",
   "execution_count": 46,
   "id": "6b3c37df",
   "metadata": {
    "scrolled": false
   },
   "outputs": [
    {
     "name": "stdout",
     "output_type": "stream",
     "text": [
      "Accuracy: 0.7833333333333333\n",
      "Precision: 0.6176470588235294\n",
      "Recall: 0.6176470588235294\n"
     ]
    }
   ],
   "source": [
    "print(\"Accuracy:\",metrics.accuracy_score(y_test, y_pred))\n",
    "print(\"Precision:\",metrics.precision_score(y_test, y_pred))\n",
    "print(\"Recall:\",metrics.recall_score(y_test, y_pred))"
   ]
  },
  {
   "cell_type": "code",
   "execution_count": 47,
   "id": "13dd7c03",
   "metadata": {},
   "outputs": [
    {
     "data": {
      "text/plain": [
       "<sklearn.metrics._plot.confusion_matrix.ConfusionMatrixDisplay at 0x7fd730a97430>"
      ]
     },
     "execution_count": 47,
     "metadata": {},
     "output_type": "execute_result"
    },
    {
     "data": {
      "image/png": "[encoded data removed]",
      "text/plain": [
       "<Figure size 432x288 with 2 Axes>"
      ]
     },
     "metadata": {
      "needs_background": "light"
     },
     "output_type": "display_data"
    }
   ],
   "source": [
    "cm = confusion_matrix(y_test, y_pred, labels=[0,1])\n",
    "disp = ConfusionMatrixDisplay(confusion_matrix=cm,display_labels=['false', 'true'])\n",
    "disp.plot()"
   ]
  },
  {
   "cell_type": "markdown",
   "id": "a9ce9908",
   "metadata": {},
   "source": [
    "## Buscando o melhor k do knn"
   ]
  },
  {
   "cell_type": "code",
   "execution_count": 48,
   "id": "baa9a40d",
   "metadata": {},
   "outputs": [],
   "source": [
    "Ks = 15\n",
    "mean_acc = np.zeros((Ks-1))\n",
    "std_acc = np.zeros((Ks-1))\n",
    "for n in range(1,Ks):\n",
    "    \n",
    "    #Train Model and Predict  \n",
    "    neigh = KNeighborsClassifier(n_neighbors = n).fit(X_train,y_train)\n",
    "    y_pred=neigh.predict(X_test)\n",
    "    mean_acc[n-1] = metrics.accuracy_score(y_test, y_pred)\n",
    "    std_acc[n-1]=np.std(y_pred==y_test)/np.sqrt(y_pred.shape[0])\n",
    "    "
   ]
  },
  {
   "cell_type": "code",
   "execution_count": 49,
   "id": "e26a50ef",
   "metadata": {},
   "outputs": [
    {
     "data": {
      "image/png": "[encoded data removed]",
      "text/plain": [
       "<Figure size 432x288 with 1 Axes>"
      ]
     },
     "metadata": {
      "needs_background": "light"
     },
     "output_type": "display_data"
    }
   ],
   "source": [
    "plt.plot(range(1,Ks),mean_acc,'g')\n",
    "plt.fill_between(range(1,Ks),mean_acc - 1 * std_acc,mean_acc + 1 * std_acc, alpha=0.10)\n",
    "plt.legend(('Accuracy ', '+/- 3xstd'))\n",
    "plt.ylabel('Accuracy ')\n",
    "plt.xlabel('Number of Nabors (K)')\n",
    "plt.tight_layout()\n",
    "plt.show()"
   ]
  },
  {
   "cell_type": "code",
   "execution_count": 50,
   "id": "14269c4c",
   "metadata": {},
   "outputs": [],
   "source": [
    "knn = KNeighborsClassifier(n_neighbors=2)\n",
    "\n",
    "knn.fit(X_train, y_train)\n",
    "\n",
    "y_pred = knn.predict(X_test)"
   ]
  },
  {
   "cell_type": "code",
   "execution_count": 51,
   "id": "4023f354",
   "metadata": {},
   "outputs": [
    {
     "name": "stdout",
     "output_type": "stream",
     "text": [
      "Accuracy: 0.7666666666666667\n",
      "Precision: 0.65\n",
      "Recall: 0.38235294117647056\n"
     ]
    }
   ],
   "source": [
    "print(\"Accuracy:\",metrics.accuracy_score(y_test, y_pred))\n",
    "print(\"Precision:\",metrics.precision_score(y_test, y_pred))\n",
    "print(\"Recall:\",metrics.recall_score(y_test, y_pred))"
   ]
  },
  {
   "cell_type": "code",
   "execution_count": 52,
   "id": "c8f60d99",
   "metadata": {
    "scrolled": false
   },
   "outputs": [
    {
     "data": {
      "text/plain": [
       "<sklearn.metrics._plot.confusion_matrix.ConfusionMatrixDisplay at 0x7fd730ad8730>"
      ]
     },
     "execution_count": 52,
     "metadata": {},
     "output_type": "execute_result"
    },
    {
     "data": {
      "image/png": "[encoded data removed]",
      "text/plain": [
       "<Figure size 432x288 with 2 Axes>"
      ]
     },
     "metadata": {
      "needs_background": "light"
     },
     "output_type": "display_data"
    }
   ],
   "source": [
    "cm = confusion_matrix(y_test, y_pred, labels=[0,1])\n",
    "disp = ConfusionMatrixDisplay(confusion_matrix=cm,display_labels=['false', 'true'])\n",
    "disp.plot()"
   ]
  },
  {
   "cell_type": "markdown",
   "id": "c55c7f9d",
   "metadata": {},
   "source": [
    "### Usando Decision Tree como modelo"
   ]
  },
  {
   "cell_type": "code",
   "execution_count": 53,
   "id": "83c1b18d",
   "metadata": {},
   "outputs": [],
   "source": [
    "from sklearn.tree import DecisionTreeClassifier"
   ]
  },
  {
   "cell_type": "code",
   "execution_count": 54,
   "id": "2f9b05cf",
   "metadata": {},
   "outputs": [
    {
     "data": {
      "text/plain": [
       "DecisionTreeClassifier(criterion='entropy', max_depth=4)"
      ]
     },
     "execution_count": 54,
     "metadata": {},
     "output_type": "execute_result"
    }
   ],
   "source": [
    "dTree = DecisionTreeClassifier(criterion=\"entropy\", max_depth = 4)\n",
    "dTree # it shows the default parameters"
   ]
  },
  {
   "cell_type": "code",
   "execution_count": 55,
   "id": "196c5f31",
   "metadata": {},
   "outputs": [
    {
     "data": {
      "text/plain": [
       "DecisionTreeClassifier(criterion='entropy', max_depth=4)"
      ]
     },
     "execution_count": 55,
     "metadata": {},
     "output_type": "execute_result"
    }
   ],
   "source": [
    "dTree.fit(X_train,y_train)"
   ]
  },
  {
   "cell_type": "code",
   "execution_count": 56,
   "id": "0dbe09ec",
   "metadata": {},
   "outputs": [],
   "source": [
    "predTree = dTree.predict(X_test)"
   ]
  },
  {
   "cell_type": "code",
   "execution_count": 57,
   "id": "b47a612e",
   "metadata": {},
   "outputs": [
    {
     "name": "stdout",
     "output_type": "stream",
     "text": [
      "DecisionTrees's Accuracy:  0.825\n",
      "Precision: 0.7241379310344828\n",
      "Recall: 0.6176470588235294\n"
     ]
    }
   ],
   "source": [
    "print(\"DecisionTrees's Accuracy: \", metrics.accuracy_score(y_test, predTree))\n",
    "print(\"Precision:\",metrics.precision_score(y_test, predTree))\n",
    "print(\"Recall:\",metrics.recall_score(y_test, predTree))"
   ]
  },
  {
   "cell_type": "code",
   "execution_count": 58,
   "id": "78932a78",
   "metadata": {},
   "outputs": [
    {
     "data": {
      "text/plain": [
       "<sklearn.metrics._plot.confusion_matrix.ConfusionMatrixDisplay at 0x7fd7319ab520>"
      ]
     },
     "execution_count": 58,
     "metadata": {},
     "output_type": "execute_result"
    },
    {
     "data": {
      "image/png": "[encoded data removed]",
      "text/plain": [
       "<Figure size 432x288 with 2 Axes>"
      ]
     },
     "metadata": {
      "needs_background": "light"
     },
     "output_type": "display_data"
    }
   ],
   "source": [
    "cmd_obj = ConfusionMatrixDisplay(confusion_matrix(y_test, predTree), display_labels=['false', 'true'])\n",
    "cmd_obj.plot()"
   ]
  },
  {
   "cell_type": "markdown",
   "id": "8a0b26fa",
   "metadata": {},
   "source": [
    "## Logistic Regression"
   ]
  },
  {
   "cell_type": "code",
   "execution_count": 59,
   "id": "ba4c2d76",
   "metadata": {},
   "outputs": [
    {
     "data": {
      "text/plain": [
       "LogisticRegression(C=0.01, solver='liblinear')"
      ]
     },
     "execution_count": 59,
     "metadata": {},
     "output_type": "execute_result"
    }
   ],
   "source": [
    "from sklearn.linear_model import LogisticRegression\n",
    "LR = LogisticRegression(C=0.01, solver='liblinear').fit(X_train,y_train)\n",
    "LR"
   ]
  },
  {
   "cell_type": "code",
   "execution_count": 60,
   "id": "053c00d1",
   "metadata": {},
   "outputs": [
    {
     "data": {
      "text/plain": [
       "array([0, 0, 0, 0, 1, 0, 0, 0, 1, 0, 0, 0, 0, 0, 0, 0, 0, 0, 0, 0, 1, 0,\n",
       "       0, 0, 0, 0, 0, 0, 0, 1, 0, 0, 0, 0, 0, 1, 0, 0, 0, 1, 1, 0, 1, 0,\n",
       "       0, 0, 0, 0, 0, 0, 0, 0, 0, 0, 0, 1, 0, 0, 0, 1, 0, 0, 0, 1, 0, 0,\n",
       "       0, 0, 0, 0, 0, 0, 0, 0, 1, 0, 0, 0, 0, 0, 0, 0, 0, 0, 0, 0, 0, 1,\n",
       "       1, 0, 0, 0, 0, 0, 1, 0, 0, 0, 0, 0, 0, 0, 0, 0, 0, 0, 0, 0, 0, 0,\n",
       "       0, 0, 0, 0, 0, 0, 0, 0, 0, 0])"
      ]
     },
     "execution_count": 60,
     "metadata": {},
     "output_type": "execute_result"
    }
   ],
   "source": [
    "yhat = LR.predict(X_test)\n",
    "yhat"
   ]
  },
  {
   "cell_type": "code",
   "execution_count": 61,
   "id": "653bac33",
   "metadata": {},
   "outputs": [],
   "source": [
    "yhat_prob = LR.predict_proba(X_test)"
   ]
  },
  {
   "cell_type": "code",
   "execution_count": 62,
   "id": "efeda1ab",
   "metadata": {},
   "outputs": [
    {
     "name": "stdout",
     "output_type": "stream",
     "text": [
      "Logistic Regression Accuracy:  0.7583333333333333\n",
      "Precision: 0.6666666666666666\n",
      "Recall: 0.29411764705882354\n"
     ]
    }
   ],
   "source": [
    "print(\"Logistic Regression Accuracy: \", metrics.accuracy_score(y_test, yhat))\n",
    "print(\"Precision:\",metrics.precision_score(y_test, yhat))\n",
    "print(\"Recall:\",metrics.recall_score(y_test, yhat))"
   ]
  },
  {
   "cell_type": "code",
   "execution_count": 63,
   "id": "802dc835",
   "metadata": {},
   "outputs": [
    {
     "data": {
      "text/plain": [
       "<sklearn.metrics._plot.confusion_matrix.ConfusionMatrixDisplay at 0x7fd72fc82f70>"
      ]
     },
     "execution_count": 63,
     "metadata": {},
     "output_type": "execute_result"
    },
    {
     "data": {
      "image/png": "[encoded data removed]",
      "text/plain": [
       "<Figure size 432x288 with 2 Axes>"
      ]
     },
     "metadata": {
      "needs_background": "light"
     },
     "output_type": "display_data"
    }
   ],
   "source": [
    "cmd_obj = ConfusionMatrixDisplay(confusion_matrix(y_test,yhat), display_labels=['false', 'true'])\n",
    "cmd_obj.plot()"
   ]
  },
  {
   "cell_type": "markdown",
   "id": "e5df6feb",
   "metadata": {},
   "source": [
    "## Usando Cross-validation"
   ]
  },
  {
   "cell_type": "code",
   "execution_count": 64,
   "id": "b94f233f",
   "metadata": {},
   "outputs": [],
   "source": [
    "from sklearn.model_selection import cross_validate\n",
    "from sklearn.model_selection import cross_val_score\n"
   ]
  },
  {
   "cell_type": "code",
   "execution_count": 65,
   "id": "57c18c3d",
   "metadata": {},
   "outputs": [
    {
     "name": "stdout",
     "output_type": "stream",
     "text": [
      "Acurácia nos k-folds [0.83928571 0.82142857 0.80357143 0.83928571 0.80357143]\n",
      "Média 0.8214285714285715\n"
     ]
    }
   ],
   "source": [
    "kfolds = 5\n",
    "scores = cross_val_score(knn, X_train, y_train, cv = kfolds) \n",
    "print(\"Acurácia nos k-folds\", scores)\n",
    "print(\"Média\", scores.mean())"
   ]
  },
  {
   "cell_type": "markdown",
   "id": "2242b171",
   "metadata": {},
   "source": [
    "## Comparando modelos"
   ]
  },
  {
   "cell_type": "code",
   "execution_count": 66,
   "id": "273e968c",
   "metadata": {},
   "outputs": [],
   "source": [
    "knn = KNeighborsClassifier(n_neighbors=9)\n",
    "drugTree = DecisionTreeClassifier(criterion=\"entropy\", max_depth = 4)\n",
    "LR = LogisticRegression(C=0.01, solver='liblinear')"
   ]
  },
  {
   "cell_type": "code",
   "execution_count": 67,
   "id": "1901ad3b",
   "metadata": {},
   "outputs": [],
   "source": [
    "scoring = ['accuracy','precision','recall','f1']"
   ]
  },
  {
   "cell_type": "code",
   "execution_count": 68,
   "id": "ea3a60a1",
   "metadata": {},
   "outputs": [
    {
     "name": "stdout",
     "output_type": "stream",
     "text": [
      "Modelo: KNeighborsClassifier | Média: 0.83 \n",
      "Modelo: DecisionTreeClassifier | Média: 0.82 \n",
      "Modelo: LogisticRegression | Média: 0.79 \n"
     ]
    }
   ],
   "source": [
    "models = [KNeighborsClassifier(n_neighbors=9), DecisionTreeClassifier(criterion=\"entropy\", max_depth = 4),\n",
    "          LogisticRegression(C=0.01, solver='liblinear')]\n",
    "\n",
    "models_scores = []\n",
    "for model in models:\n",
    "    val_scores = cross_val_score(model, X_train, y_train, cv=5)\n",
    "    nome_modelo = type(model).__name__ # somente para exibição\n",
    "    print('Modelo: {} | Média: {:.2} '.format(nome_modelo,\n",
    "                                    np.mean(val_scores)))"
   ]
  },
  {
   "cell_type": "code",
   "execution_count": 69,
   "id": "c4a16c07",
   "metadata": {},
   "outputs": [
    {
     "name": "stdout",
     "output_type": "stream",
     "text": [
      "Modelo KNeighborsClassifier\n",
      "Acurácia: 0.8482142857142858\n",
      "Precisão: 0.7761203815443125\n",
      "Recall: 0.61\n",
      "F1: 0.6820121542855415\n",
      "---------\n",
      "Modelo DecisionTreeClassifier\n",
      "Acurácia: 0.8473214285714284\n",
      "Precisão: 0.7912498060945266\n",
      "Recall: 0.5866666666666667\n",
      "F1: 0.6728430031684316\n",
      "---------\n",
      "Modelo LogisticRegression\n",
      "Acurácia: 0.7875\n",
      "Precisão: 0.671134684281236\n",
      "Recall: 0.4033333333333333\n",
      "F1: 0.5007864840530128\n",
      "---------\n"
     ]
    }
   ],
   "source": [
    "models = [KNeighborsClassifier(n_neighbors=9), DecisionTreeClassifier(criterion=\"entropy\", max_depth = 4),\n",
    "          LogisticRegression(C=0.01, solver='liblinear')]\n",
    "\n",
    "models_scores = []\n",
    "for model in models:\n",
    "    val_scores = cross_validate(model, X_train, y_train, cv=5, scoring= scoring, return_train_score=True)\n",
    "    nome_modelo = type(model).__name__ # somente para exibição\n",
    "    print('Modelo', nome_modelo)\n",
    "    print('Acurácia:',val_scores['train_accuracy'].mean())\n",
    "    print('Precisão:',val_scores['train_precision'].mean())\n",
    "    print('Recall:',val_scores['train_recall'].mean())\n",
    "    print('F1:',val_scores['train_f1'].mean())\n",
    "    print(\"---------\")"
   ]
  },
  {
   "cell_type": "markdown",
   "id": "9adc8b2f",
   "metadata": {},
   "source": [
    "### Cross-validation apenas com KNN"
   ]
  },
  {
   "cell_type": "code",
   "execution_count": 70,
   "id": "a92ed83d",
   "metadata": {},
   "outputs": [
    {
     "name": "stdout",
     "output_type": "stream",
     "text": [
      "Para k = 1\n",
      "Acurácia: 0.9928571428571429\n",
      "Precisão: 0.9867213114754099\n",
      "Recall: 0.9866666666666667\n",
      "F1: 0.9866664351691089\n",
      "---------\n",
      "0.0071428571428571175\n",
      "Para k = 2\n",
      "Acurácia: 0.8883928571428571\n",
      "Precisão: 1.0\n",
      "Recall: 0.5833333333333333\n",
      "F1: 0.7358785805386594\n",
      "---------\n",
      "0.1116071428571429\n",
      "Para k = 3\n",
      "Acurácia: 0.8839285714285714\n",
      "Precisão: 0.8245934658333581\n",
      "Recall: 0.72\n",
      "F1: 0.7684030462123117\n",
      "---------\n",
      "0.1160714285714286\n",
      "Para k = 4\n",
      "Acurácia: 0.8625\n",
      "Precisão: 0.887949707949708\n",
      "Recall: 0.5566666666666666\n",
      "F1: 0.6839781866412361\n",
      "---------\n",
      "0.13749999999999996\n",
      "Para k = 5\n",
      "Acurácia: 0.8517857142857143\n",
      "Precisão: 0.7786741438915352\n",
      "Recall: 0.6266666666666667\n",
      "F1: 0.693367671719211\n",
      "---------\n",
      "0.14821428571428574\n",
      "Para k = 6\n",
      "Acurácia: 0.8464285714285715\n",
      "Precisão: 0.816319290465632\n",
      "Recall: 0.55\n",
      "F1: 0.6563562753036437\n",
      "---------\n",
      "0.15357142857142847\n",
      "Para k = 7\n",
      "Acurácia: 0.8535714285714286\n",
      "Precisão: 0.7933770703639289\n",
      "Recall: 0.6133333333333334\n",
      "F1: 0.691068209072607\n",
      "---------\n",
      "0.14642857142857135\n",
      "Para k = 8\n",
      "Acurácia: 0.8455357142857144\n",
      "Precisão: 0.8117199847432405\n",
      "Recall: 0.55\n",
      "F1: 0.6548912896065333\n",
      "---------\n",
      "0.1544642857142856\n",
      "Para k = 9\n",
      "Acurácia: 0.8482142857142858\n",
      "Precisão: 0.7761203815443125\n",
      "Recall: 0.61\n",
      "F1: 0.6820121542855415\n",
      "---------\n",
      "0.1517857142857142\n",
      "Para k = 10\n",
      "Acurácia: 0.8535714285714286\n",
      "Precisão: 0.8185010227867371\n",
      "Recall: 0.5833333333333333\n",
      "F1: 0.6800936250294048\n",
      "---------\n",
      "0.14642857142857135\n",
      "Para k = 11\n",
      "Acurácia: 0.8571428571428571\n",
      "Precisão: 0.7914780943824071\n",
      "Recall: 0.6333333333333334\n",
      "F1: 0.7029747847105969\n",
      "---------\n",
      "0.1428571428571429\n",
      "Para k = 12\n",
      "Acurácia: 0.8607142857142855\n",
      "Precisão: 0.818754246320894\n",
      "Recall: 0.6166666666666666\n",
      "F1: 0.7020572769251034\n",
      "---------\n",
      "0.13928571428571446\n",
      "Para k = 13\n",
      "Acurácia: 0.8553571428571429\n",
      "Precisão: 0.779649749130314\n",
      "Recall: 0.64\n",
      "F1: 0.7023991284124737\n",
      "---------\n",
      "0.14464285714285707\n",
      "Para k = 14\n",
      "Acurácia: 0.8607142857142858\n",
      "Precisão: 0.8272801089723405\n",
      "Recall: 0.6066666666666667\n",
      "F1: 0.6992195728335824\n",
      "---------\n",
      "0.13928571428571423\n",
      "Para k = 15\n",
      "Acurácia: 0.8589285714285714\n",
      "Precisão: 0.8015201930574601\n",
      "Recall: 0.6333333333333334\n",
      "F1: 0.7058117979649992\n",
      "---------\n",
      "0.14107142857142863\n",
      "Para k = 16\n",
      "Acurácia: 0.85\n",
      "Precisão: 0.806590293175659\n",
      "Recall: 0.5866666666666667\n",
      "F1: 0.676417505110835\n",
      "---------\n",
      "0.15000000000000002\n",
      "Para k = 17\n",
      "Acurácia: 0.8491071428571428\n",
      "Precisão: 0.7908146039179512\n",
      "Recall: 0.6\n",
      "F1: 0.6800763878426894\n",
      "---------\n",
      "0.15089285714285716\n",
      "Para k = 18\n",
      "Acurácia: 0.8464285714285713\n",
      "Precisão: 0.8141859172818926\n",
      "Recall: 0.5599999999999999\n",
      "F1: 0.6616249120450801\n",
      "---------\n",
      "0.1535714285714287\n",
      "Para k = 19\n",
      "Acurácia: 0.85\n",
      "Precisão: 0.7977152149581223\n",
      "Recall: 0.5933333333333334\n",
      "F1: 0.6794724834039727\n",
      "---------\n",
      "0.15000000000000002\n"
     ]
    }
   ],
   "source": [
    "error_rates = list() # 1-accuracy\n",
    "\n",
    "for k in range(1,20):\n",
    "    val_scores = cross_validate(KNeighborsClassifier(n_neighbors=k), X_train, y_train, cv=5, scoring= scoring, return_train_score=True)\n",
    "    error = 1-val_scores['train_accuracy'].mean()\n",
    "    error_rates.append((k, error))\n",
    "    nome_modelo = type(model).__name__ #para exibição\n",
    "    print('Para k =', k )\n",
    "    print('Acurácia:',val_scores['train_accuracy'].mean())\n",
    "    print('Precisão:',val_scores['train_precision'].mean())\n",
    "    print('Recall:',val_scores['train_recall'].mean())\n",
    "    print('F1:',val_scores['train_f1'].mean())\n",
    "    print(\"---------\")\n",
    "    print(error)\n",
    "    \n",
    "error_results = pd.DataFrame(error_rates, columns=['K', 'Error Rate']) "
   ]
  },
  {
   "cell_type": "code",
   "execution_count": 71,
   "id": "56e906dd",
   "metadata": {},
   "outputs": [
    {
     "data": {
      "text/plain": [
       "<Figure size 1800x1200 with 0 Axes>"
      ]
     },
     "metadata": {},
     "output_type": "display_data"
    },
    {
     "data": {
      "image/png": "[encoded data removed]",
      "text/plain": [
       "<Figure size 864x864 with 1 Axes>"
      ]
     },
     "metadata": {},
     "output_type": "display_data"
    }
   ],
   "source": [
    "sns.set_context('talk')\n",
    "sns.set_style('ticks')\n",
    "\n",
    "plt.figure(dpi=300)\n",
    "ax = error_results.set_index('K').plot(figsize=(12, 12), linewidth=6)\n",
    "ax.set(xlabel='K', ylabel='Error Rate')\n",
    "ax.set_xticks(range(1, 20))\n",
    "plt.title('KNN Elbow Curve')\n",
    "plt.savefig('knn_elbow.png')"
   ]
  },
  {
   "cell_type": "code",
   "execution_count": null,
   "id": "7ee2163d",
   "metadata": {},
   "outputs": [],
   "source": []
  }
 ],
 "metadata": {
  "kernelspec": {
   "display_name": "Python 3 (ipykernel)",
   "language": "python",
   "name": "python3"
  },
  "language_info": {
   "codemirror_mode": {
    "name": "ipython",
    "version": 3
   },
   "file_extension": ".py",
   "mimetype": "text/x-python",
   "name": "python",
   "nbconvert_exporter": "python",
   "pygments_lexer": "ipython3",
   "version": "3.9.7"
  }
 },
 "nbformat": 4,
 "nbformat_minor": 5
}
